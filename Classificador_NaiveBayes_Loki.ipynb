{
 "cells": [
  {
   "cell_type": "markdown",
   "metadata": {},
   "source": [
    "# Projeto 1 - Ciência dos Dados"
   ]
  },
  {
   "cell_type": "markdown",
   "metadata": {},
   "source": [
    "Nome: João Gabriel Valentim Rocha\n",
    "\n",
    "Nome: Enzo Dadier Lacks Zamberlan"
   ]
  },
  {
   "cell_type": "markdown",
   "metadata": {},
   "source": [
    "Atenção: Serão permitidos grupos de três pessoas, mas com uma rubrica mais exigente. Grupos deste tamanho precisarão fazer um questionário de avaliação de trabalho em equipe"
   ]
  },
  {
   "cell_type": "code",
   "execution_count": 1,
   "metadata": {},
   "outputs": [],
   "source": [
    "#!pip install seaborn\n",
    "#!pip install emoji\n",
    "#!pip install pysinonimos\n",
    "#!pip install nltk\n",
    "#!pip install sklearn\n",
    "#!pip install unidecode"
   ]
  },
  {
   "cell_type": "markdown",
   "metadata": {},
   "source": [
    "___\n",
    "Carregando algumas bibliotecas:"
   ]
  },
  {
   "cell_type": "code",
   "execution_count": 2,
   "metadata": {},
   "outputs": [],
   "source": [
    "%matplotlib inline\n",
    "import pandas as pd\n",
    "import matplotlib.pyplot as plt\n",
    "import numpy as np\n",
    "import os\n",
    "import random\n",
    "import seaborn as sn\n",
    "from nltk import SnowballStemmer\n",
    "import math"
   ]
  },
  {
   "cell_type": "code",
   "execution_count": 3,
   "metadata": {},
   "outputs": [],
   "source": [
    "import re\n",
    "import string\n",
    "import emoji\n",
    "import nltk\n",
    "import pysinonimos.sinonimos as sinom\n",
    "from emoji import UNICODE_EMOJI\n",
    "import unidecode"
   ]
  },
  {
   "cell_type": "code",
   "execution_count": 4,
   "metadata": {
    "scrolled": false
   },
   "outputs": [
    {
     "name": "stdout",
     "output_type": "stream",
     "text": [
      "Esperamos trabalhar no diretório\n",
      "C:\\Users\\gabri\\Desktop\\Matérias 2 semestre\\cdados\\P1\\Classificador_automatico_de_sentimentos\n"
     ]
    }
   ],
   "source": [
    "print('Esperamos trabalhar no diretório')\n",
    "print(os.getcwd())"
   ]
  },
  {
   "cell_type": "markdown",
   "metadata": {},
   "source": [
    "Carregando a base de dados com os tweets classificados como relevantes e não relevantes:"
   ]
  },
  {
   "cell_type": "code",
   "execution_count": 5,
   "metadata": {},
   "outputs": [],
   "source": [
    "filename = 'assets/Loki_aleatório.xlsx'"
   ]
  },
  {
   "cell_type": "code",
   "execution_count": 6,
   "metadata": {},
   "outputs": [
    {
     "data": {
      "text/html": [
       "<div>\n",
       "<style scoped>\n",
       "    .dataframe tbody tr th:only-of-type {\n",
       "        vertical-align: middle;\n",
       "    }\n",
       "\n",
       "    .dataframe tbody tr th {\n",
       "        vertical-align: top;\n",
       "    }\n",
       "\n",
       "    .dataframe thead th {\n",
       "        text-align: right;\n",
       "    }\n",
       "</style>\n",
       "<table border=\"1\" class=\"dataframe\">\n",
       "  <thead>\n",
       "    <tr style=\"text-align: right;\">\n",
       "      <th></th>\n",
       "      <th>Treinamento</th>\n",
       "      <th>Relevancia</th>\n",
       "    </tr>\n",
       "  </thead>\n",
       "  <tbody>\n",
       "    <tr>\n",
       "      <th>0</th>\n",
       "      <td>@agtha_harkness @mobiusdaavt @pooldeangostoso ...</td>\n",
       "      <td>0.0</td>\n",
       "    </tr>\n",
       "    <tr>\n",
       "      <th>1</th>\n",
       "      <td>@chiidenoir amg esquece\\nela shippa thor e loki</td>\n",
       "      <td>1.0</td>\n",
       "    </tr>\n",
       "    <tr>\n",
       "      <th>2</th>\n",
       "      <td>a menina falando mal de loki puta que pariu se...</td>\n",
       "      <td>1.0</td>\n",
       "    </tr>\n",
       "    <tr>\n",
       "      <th>3</th>\n",
       "      <td>@octavio_guedes a técnica para dar volume: ao ...</td>\n",
       "      <td>0.0</td>\n",
       "    </tr>\n",
       "    <tr>\n",
       "      <th>4</th>\n",
       "      <td>@loki__mugo fuliza inanidai ata</td>\n",
       "      <td>0.0</td>\n",
       "    </tr>\n",
       "    <tr>\n",
       "      <th>...</th>\n",
       "      <td>...</td>\n",
       "      <td>...</td>\n",
       "    </tr>\n",
       "    <tr>\n",
       "      <th>793</th>\n",
       "      <td>@clintarqueiro @bracinhodeferro @meupai_eadory...</td>\n",
       "      <td>0.0</td>\n",
       "    </tr>\n",
       "    <tr>\n",
       "      <th>794</th>\n",
       "      <td>eu fico toda coisada pelo loki</td>\n",
       "      <td>1.0</td>\n",
       "    </tr>\n",
       "    <tr>\n",
       "      <th>795</th>\n",
       "      <td>@sylvielaufeydit @bracinhodeferro @meupai_eado...</td>\n",
       "      <td>0.0</td>\n",
       "    </tr>\n",
       "    <tr>\n",
       "      <th>796</th>\n",
       "      <td>@kookvlong pode</td>\n",
       "      <td>0.0</td>\n",
       "    </tr>\n",
       "    <tr>\n",
       "      <th>797</th>\n",
       "      <td>amo a epifania q estou tendo com loki pq acho ...</td>\n",
       "      <td>1.0</td>\n",
       "    </tr>\n",
       "  </tbody>\n",
       "</table>\n",
       "<p>798 rows × 2 columns</p>\n",
       "</div>"
      ],
      "text/plain": [
       "                                           Treinamento  Relevancia\n",
       "0    @agtha_harkness @mobiusdaavt @pooldeangostoso ...         0.0\n",
       "1      @chiidenoir amg esquece\\nela shippa thor e loki         1.0\n",
       "2    a menina falando mal de loki puta que pariu se...         1.0\n",
       "3    @octavio_guedes a técnica para dar volume: ao ...         0.0\n",
       "4                      @loki__mugo fuliza inanidai ata         0.0\n",
       "..                                                 ...         ...\n",
       "793  @clintarqueiro @bracinhodeferro @meupai_eadory...         0.0\n",
       "794                     eu fico toda coisada pelo loki         1.0\n",
       "795  @sylvielaufeydit @bracinhodeferro @meupai_eado...         0.0\n",
       "796                                    @kookvlong pode         0.0\n",
       "797  amo a epifania q estou tendo com loki pq acho ...         1.0\n",
       "\n",
       "[798 rows x 2 columns]"
      ]
     },
     "execution_count": 6,
     "metadata": {},
     "output_type": "execute_result"
    }
   ],
   "source": [
    "train = pd.read_excel(filename)\n",
    "train"
   ]
  },
  {
   "cell_type": "code",
   "execution_count": 7,
   "metadata": {},
   "outputs": [
    {
     "data": {
      "text/html": [
       "<div>\n",
       "<style scoped>\n",
       "    .dataframe tbody tr th:only-of-type {\n",
       "        vertical-align: middle;\n",
       "    }\n",
       "\n",
       "    .dataframe tbody tr th {\n",
       "        vertical-align: top;\n",
       "    }\n",
       "\n",
       "    .dataframe thead th {\n",
       "        text-align: right;\n",
       "    }\n",
       "</style>\n",
       "<table border=\"1\" class=\"dataframe\">\n",
       "  <thead>\n",
       "    <tr style=\"text-align: right;\">\n",
       "      <th></th>\n",
       "      <th>Teste</th>\n",
       "      <th>Relevancia</th>\n",
       "    </tr>\n",
       "  </thead>\n",
       "  <tbody>\n",
       "    <tr>\n",
       "      <th>0</th>\n",
       "      <td>demorou mas finalmente tô assistindo loki</td>\n",
       "      <td>1</td>\n",
       "    </tr>\n",
       "    <tr>\n",
       "      <th>1</th>\n",
       "      <td>@benuron_ @beatriz__asf xiu nao quero saber de...</td>\n",
       "      <td>0</td>\n",
       "    </tr>\n",
       "    <tr>\n",
       "      <th>2</th>\n",
       "      <td>ᅟᅟ\\n\\neu e a tia sylvie atormentando o tio lok...</td>\n",
       "      <td>1</td>\n",
       "    </tr>\n",
       "    <tr>\n",
       "      <th>3</th>\n",
       "      <td>vote 24 pra eleger loki como presidente em 202...</td>\n",
       "      <td>1</td>\n",
       "    </tr>\n",
       "    <tr>\n",
       "      <th>4</th>\n",
       "      <td>indo de descer com o loki e mimir</td>\n",
       "      <td>0</td>\n",
       "    </tr>\n",
       "    <tr>\n",
       "      <th>...</th>\n",
       "      <td>...</td>\n",
       "      <td>...</td>\n",
       "    </tr>\n",
       "    <tr>\n",
       "      <th>196</th>\n",
       "      <td>honestamente esperava mais do twitter, fiquei ...</td>\n",
       "      <td>0</td>\n",
       "    </tr>\n",
       "    <tr>\n",
       "      <th>197</th>\n",
       "      <td>pq ninguém está falando sobre a agatha de wand...</td>\n",
       "      <td>1</td>\n",
       "    </tr>\n",
       "    <tr>\n",
       "      <th>198</th>\n",
       "      <td>@datrueee @mao77sem @dvszinx9 @kayky9rs @wtfsn...</td>\n",
       "      <td>0</td>\n",
       "    </tr>\n",
       "    <tr>\n",
       "      <th>199</th>\n",
       "      <td>vo terminar de ver loki, depois vou ver o film...</td>\n",
       "      <td>0</td>\n",
       "    </tr>\n",
       "    <tr>\n",
       "      <th>200</th>\n",
       "      <td>meu deus kkkkkkkkkkkkk a temporada de loki foi...</td>\n",
       "      <td>1</td>\n",
       "    </tr>\n",
       "  </tbody>\n",
       "</table>\n",
       "<p>201 rows × 2 columns</p>\n",
       "</div>"
      ],
      "text/plain": [
       "                                                 Teste  Relevancia\n",
       "0            demorou mas finalmente tô assistindo loki           1\n",
       "1    @benuron_ @beatriz__asf xiu nao quero saber de...           0\n",
       "2    ᅟᅟ\\n\\neu e a tia sylvie atormentando o tio lok...           1\n",
       "3    vote 24 pra eleger loki como presidente em 202...           1\n",
       "4                    indo de descer com o loki e mimir           0\n",
       "..                                                 ...         ...\n",
       "196  honestamente esperava mais do twitter, fiquei ...           0\n",
       "197  pq ninguém está falando sobre a agatha de wand...           1\n",
       "198  @datrueee @mao77sem @dvszinx9 @kayky9rs @wtfsn...           0\n",
       "199  vo terminar de ver loki, depois vou ver o film...           0\n",
       "200  meu deus kkkkkkkkkkkkk a temporada de loki foi...           1\n",
       "\n",
       "[201 rows x 2 columns]"
      ]
     },
     "execution_count": 7,
     "metadata": {},
     "output_type": "execute_result"
    }
   ],
   "source": [
    "test = pd.read_excel(filename, sheet_name = 'Teste')\n",
    "test"
   ]
  },
  {
   "cell_type": "markdown",
   "metadata": {},
   "source": [
    "___\n",
    "## Classificador automático de sentimento\n"
   ]
  },
  {
   "cell_type": "markdown",
   "metadata": {},
   "source": [
    "Faça aqui uma descrição do seu produto e o que considerou como relevante ou não relevante na classificação dos tweets.\n",
    "\n",
    "O classificador automático de sentimentos montado tem como critério utilizado a relevância de tweets que remetam a alguma reação ou laço sentimental em relação à série, sendo os mesmos positivos ou não (elogiando algum episódio, comentando valores da série, ou ainda, criticando os mesmos). Neste sentido, postagens que dizem respeito unicamente a aspectos nesse tocante, elogiando ou comentando sobre os atores da obra, como também tweets com vagas menções sobre a série, foram considerados como irrelevantes."
   ]
  },
  {
   "cell_type": "markdown",
   "metadata": {},
   "source": [
    "### Procedimentos e configurações iniciais\n",
    "\n",
    "Para continuarmos, é necessário definir algumas funções básicas que vão nos ajudar:\n",
    "\n",
    "1) Primeiro, vamos fazer a limpeza dos tweets. Retirando simbolos e pontuações que não serão contabilizadas para nossa análise\n",
    "\n",
    "2)"
   ]
  },
  {
   "cell_type": "code",
   "execution_count": 8,
   "metadata": {},
   "outputs": [],
   "source": [
    "# Passo 0\n",
    "def separa_emoji(tweet):\n",
    "    # Essa função separa os emojis e transcreve suas respectivas descrições\n",
    "    modified=' '.join(emoji.get_emoji_regexp().split(tweet))\n",
    "    modified=modified.split()\n",
    "    for i,emoji1 in enumerate(modified):\n",
    "        if emoji1 in UNICODE_EMOJI['pt']:\n",
    "            modified[i]=UNICODE_EMOJI['pt'][emoji1].replace(':','')\n",
    "        elif emoji1 in UNICODE_EMOJI['en']:\n",
    "            modified[i]=UNICODE_EMOJI['en'][emoji1].replace(':','')\n",
    "        else:\n",
    "            continue\n",
    "    modified=' '.join(modified)\n",
    "        \n",
    "    return modified"
   ]
  },
  {
   "cell_type": "code",
   "execution_count": 9,
   "metadata": {},
   "outputs": [],
   "source": [
    "# Passo 1\n",
    "stemmer = SnowballStemmer('portuguese')\n",
    "def limpa_frase(frase):\n",
    "    # Primeiro, poe todas as palavras com letras minúsculas\n",
    "    aux = frase.lower()\n",
    "    \n",
    "    # Segundo, remove # and @\n",
    "    aux = re.sub(\"@[A-Za-z0-9_]+\",\"\", aux)\n",
    "    aux = re.sub(\"#[A-Za-z0-9_]+\",\"\", aux)\n",
    "    \n",
    "    # Terceiro, remove links\n",
    "    aux = re.sub(r\"http\\S+\", \"\", aux)\n",
    "    aux = re.sub(r\"www.\\S+\", \"\", aux)\n",
    "    \n",
    "    # Quarto, remove pontuação\n",
    "    aux = re.sub('[()!?]', ' ', aux)\n",
    "    aux = re.sub('\\[.*?\\]',' ', aux)\n",
    "    \n",
    "    # Quinto, separa e troca os emojis pela sua respectiva descrição\n",
    "    aux = separa_emoji(aux)\n",
    "    aux = aux.replace(\"_\", \"\")\n",
    "    \n",
    "    # Sexto, remove acentos\n",
    "    aux = unidecode.unidecode(aux)\n",
    "    \n",
    "    # Sétimo, remove não alfa-numericos\n",
    "    aux = re.sub(\"[^a-z0-9]\",\" \", aux)\n",
    "    \n",
    "    # Oitavo, aplica Stemming\n",
    "    aux_2 = ''\n",
    "    lista_das_palavras = aux.split()\n",
    "    for palavra in lista_das_palavras:\n",
    "        nova_palavra = stemmer.stem(palavra)\n",
    "        aux_2 += nova_palavra + ' '\n",
    "    aux = aux_2.rstrip()\n",
    "    \n",
    "    return aux"
   ]
  },
  {
   "cell_type": "code",
   "execution_count": 10,
   "metadata": {},
   "outputs": [],
   "source": [
    "# Passo 2\n",
    "# transforma uma string em uma lista, de tal forma que é possível acessar palavra por palavra\n",
    "def tokenize(frase):\n",
    "    return frase.split()"
   ]
  },
  {
   "cell_type": "code",
   "execution_count": 11,
   "metadata": {},
   "outputs": [
    {
     "name": "stderr",
     "output_type": "stream",
     "text": [
      "[nltk_data] Downloading package stopwords to\n",
      "[nltk_data]     C:\\Users\\gabri\\AppData\\Roaming\\nltk_data...\n",
      "[nltk_data]   Package stopwords is already up-to-date!\n"
     ]
    }
   ],
   "source": [
    "# Passo 3\n",
    "# Aqui serão contabilizadas as \"stop words\"\n",
    "nltk.download('stopwords')\n",
    "prep = nltk.corpus.stopwords.words('portuguese')\n",
    "prep.append('')\n",
    "prep = prep + ['n', 's', 'pq', 'q', 'to', 'pra', 'ja']"
   ]
  },
  {
   "cell_type": "code",
   "execution_count": null,
   "metadata": {},
   "outputs": [],
   "source": []
  },
  {
   "cell_type": "code",
   "execution_count": 12,
   "metadata": {},
   "outputs": [],
   "source": [
    "# Passo 4\n",
    "# Essa função retira as stop words de uma lista tokenizada\n",
    "def no_stop_words(token):\n",
    "    clear = []\n",
    "    for element in token:\n",
    "        if element not in prep:\n",
    "            clear.append(element)\n",
    "    return clear"
   ]
  },
  {
   "cell_type": "code",
   "execution_count": 13,
   "metadata": {},
   "outputs": [],
   "source": [
    "# Passo 5\n",
    "# Essa função aplica o stemming, pegando a raiz das palavras\n",
    "def to_stemmer(aux):\n",
    "    aux_2 = ''\n",
    "    lista_das_palavras = aux.split()\n",
    "    for palavra in lista_das_palavras:\n",
    "        nova_palavra = stemmer.stem(palavra)\n",
    "        aux_2 += nova_palavra + ' '\n",
    "    aux = aux_2.rstrip()\n",
    "    return aux"
   ]
  },
  {
   "cell_type": "code",
   "execution_count": 14,
   "metadata": {},
   "outputs": [],
   "source": [
    "# Auxiliar para transformar de lista para string\n",
    "def list_to_string(lista):\n",
    "    return ' '.join(lista)"
   ]
  },
  {
   "cell_type": "code",
   "execution_count": 15,
   "metadata": {},
   "outputs": [],
   "source": [
    "# Função final que limpa todo tweet e devolve em formato de string\n",
    "def limpa_tweet(tweet):\n",
    "    return list_to_string(no_stop_words(tokenize(limpa_frase(tweet))))"
   ]
  },
  {
   "cell_type": "code",
   "execution_count": 16,
   "metadata": {},
   "outputs": [],
   "source": [
    "# Gera uma pd.Series do set_frases\n",
    "def frases_to_series(set_frases):\n",
    "    set_frases += ' '\n",
    "    return pd.Series(tokenize(set_frases.sum()))"
   ]
  },
  {
   "cell_type": "code",
   "execution_count": null,
   "metadata": {},
   "outputs": [],
   "source": []
  },
  {
   "cell_type": "markdown",
   "metadata": {},
   "source": [
    "___\n",
    "### Montando um Classificador Naive-Bayes\n",
    "\n",
    "Considerando apenas as mensagens da planilha Treinamento, ensine  seu classificador."
   ]
  },
  {
   "cell_type": "code",
   "execution_count": 17,
   "metadata": {},
   "outputs": [],
   "source": [
    "# Transformando palavras em variáveis categóricas\n",
    "train['Treinamento'] = train['Treinamento'].astype('category')\n",
    "test['Teste'] = test['Teste'].astype('category')"
   ]
  },
  {
   "cell_type": "code",
   "execution_count": 18,
   "metadata": {},
   "outputs": [],
   "source": [
    "# Aplicando funções de limpeza e certificação no dataframe de treinamento da base de dados\n",
    "train['Clean'] = train['Treinamento'].apply(limpa_tweet)\n",
    "test['Clean'] = test['Teste'].apply(limpa_tweet)"
   ]
  },
  {
   "cell_type": "code",
   "execution_count": 19,
   "metadata": {},
   "outputs": [],
   "source": [
    "# Separa os tweets relevantes dos irrelevantes\n",
    "train_rel = train[train['Relevancia'] == 1]\n",
    "train_irrel= train[train['Relevancia'] == 0]"
   ]
  },
  {
   "cell_type": "code",
   "execution_count": 20,
   "metadata": {},
   "outputs": [],
   "source": [
    "# Gera uma pd.Series das palavras relevantes e irrelevantes do training set\n",
    "palavras_rel = frases_to_series(train_rel['Clean'])\n",
    "palavras_irrel = frases_to_series(train_irrel['Clean'])"
   ]
  },
  {
   "cell_type": "code",
   "execution_count": 21,
   "metadata": {},
   "outputs": [],
   "source": [
    "# Gera duas listas com as palavras relevantes e irrelevantes e gera uma lista total\n",
    "lista_palavras_rel = list(palavras_rel)\n",
    "lista_palavras_irrel = list(palavras_irrel)\n",
    "lista_palavras = lista_palavras_rel + lista_palavras_irrel\n",
    "lista_palavras_sem_repeticao = list(set(lista_palavras))"
   ]
  },
  {
   "cell_type": "code",
   "execution_count": 22,
   "metadata": {},
   "outputs": [],
   "source": [
    "# Gera um pd.Series da lista com todas as palavras\n",
    "palavras = pd.Series(lista_palavras)"
   ]
  },
  {
   "cell_type": "code",
   "execution_count": 23,
   "metadata": {},
   "outputs": [
    {
     "name": "stdout",
     "output_type": "stream",
     "text": [
      "lok                     319\n",
      "nao                      69\n",
      "seri                     50\n",
      "rostochorandoaosberr     37\n",
      "assist                   35\n",
      "                       ... \n",
      "originals                 1\n",
      "event                     1\n",
      "atribu                    1\n",
      "pls                       1\n",
      "bol                       1\n",
      "Length: 1121, dtype: int64\n"
     ]
    }
   ],
   "source": [
    "# Frequencias relativas\n",
    "freq_palavras_relevantes = palavras_rel.value_counts(True)\n",
    "freq_palavras_irrelevantes = palavras_irrel.value_counts(True)\n",
    "freq_palavras_total = palavras.value_counts(True)\n",
    "\n",
    "# Frequencias absolutas\n",
    "freq_palavras_relevantes_abs = palavras_rel.value_counts()\n",
    "freq_palavras_irrelevantes_abs = palavras_irrel.value_counts()\n",
    "freq_palavras_total_abs = palavras.value_counts()\n",
    "\n",
    "print(freq_palavras_relevantes_abs)"
   ]
  },
  {
   "cell_type": "code",
   "execution_count": 24,
   "metadata": {},
   "outputs": [],
   "source": [
    "#print(list(freq_palavras_relevantes.keys()))"
   ]
  },
  {
   "cell_type": "markdown",
   "metadata": {},
   "source": [
    "## Probabilidades \n",
    "\n",
    "Aqui abordaremos os valores das probabilidades que serão imprescindíveis para a construção do modelo. Em primeiro lugar, note que as probabilidade de serem relevantes ou serem irrelevantes podem ser expressas da seguinte forma:\n",
    " \n",
    " * $P(R) \\rightarrow $  Probabilidade de ser relevante\n",
    " * $P(I)=P(R^c) \\rightarrow $  Probabilidade de ser irrelevante\n",
    " \n",
    "Além disso, por serem complementares, temos que: $P(R) + P(I) = P(R) + P(R^c) = 1$\n",
    " "
   ]
  },
  {
   "cell_type": "code",
   "execution_count": 25,
   "metadata": {},
   "outputs": [],
   "source": [
    "# Utilizando a razão entre a quantidade de palavras da lista de relevantes pelo número total, temos P_R\n",
    "P_R = len(lista_palavras_rel) / len(lista_palavras)\n",
    "\n",
    "# Por complementar, temos P_Rc\n",
    "P_Rc = 1 - P_R"
   ]
  },
  {
   "cell_type": "markdown",
   "metadata": {},
   "source": [
    "## Probabilidades Condicionais e o Teorema de Bayes\n",
    "Temos que, para o cálculo de probabilidades condicionais, fazemos uso da seguinte relação:\n",
    "\n",
    "$$P(A|B) = \\frac{P(A \\cap B)}{P(B)}$$\n",
    "\n",
    "Onde, \n",
    "* $P(A|B) \\rightarrow $ Probabilidade de A ocorrer, dado que B ocorreu  \n",
    "* $P(A \\cap B) \\rightarrow $ Probabilidade de A ocorrer e B ocorrer\n",
    "* $P(B) \\rightarrow $ Probabilidade de B ocorrer\n",
    "\n",
    "Analogamente, temos que:\n",
    "$$P(B|A) = \\frac{P(B \\cap A)}{P(A)}$$\n",
    "\n",
    "Onde, \n",
    "* $P(B|A) \\rightarrow $ Probabilidade de A ocorrer, dado que B ocorreu  \n",
    "* $P(B \\cap A) \\rightarrow $ Probabilidade de B ocorrer e A ocorrer\n",
    "* $P(A) \\rightarrow $ Probabilidade de B ocorrer\n",
    "\n",
    "Note que as probabilidades da interseção podem comutar os eventos A e B, portanto: $P(B \\cap A) = P(A \\cap B)$\n",
    "\n",
    "Dessa forma, podemos extrair o conhecido Teorema de Bayes:\n",
    "\n",
    "$$P(A|B) = P(B|A).\\frac{P(A)}{P(B)}$$\n",
    "\n"
   ]
  },
  {
   "cell_type": "markdown",
   "metadata": {},
   "source": [
    "## O Classificador de Naive Bayes\n",
    "\n",
    "O Classificador de Naive Bayes se baseia na construção de um modelo bag-of-word. Na análise de sentimento, queremos responder a seguinte pergunta: \"Qual a probabilidade dessa frase ser relevante, dado esse conjunto de palavras?\". Nesse sentido, é necessário computar esse cálculo utilizando probabilidades condicionais e o resultado do teorema de Bayes encontrado na sessão anterior:\n",
    "\n",
    "$$P(R|frase) = \\frac{P(frase|R).P(R)}{P(frase)}$$\n",
    "\n",
    "Dessa forma, nós vamos usar essa relação para encontrar $P(R|frase)$, ou seja, a probabilidade de uma frase ser relevante, dado o conjunto de palavras. Para tanto, tome como exemplo a frase: \"meu avô ama isso\", em termos de notação, queremos encontrar:\n",
    "\n",
    "$$P(R|frase) = \\frac{P(frase|R).P(R)}{P(frase)}$$\n",
    "\n",
    "Para prosseguir, utilizaremos um processo de \"Tokenização\", que consiste em dividir a frase em pedaços menores (as palavras) e assumir que uma palavra não influencia na colocação da outra. Sabemos que isso não é verdade, mas utilizaremos por questões de simplificação (essa é a ingenuidade do classificador de Naive Bayes). Portanto, nosso cálculo ficara da seguinte forma:\n",
    "\n",
    "$$P(frase|R) = P(\"meu\"|R).P(\"avô\"|R).P(\"ama\"|R).P(\"isso\"|R)$$\n",
    "\n",
    "Logo, nossa expressão final será:\n",
    "\n",
    "$$P(R|frase) = \\frac{P(\"meu\"|R).P(\"avô\"|R).P(\"ama\"|R).P(\"isso\"|R).P(R)}{P(frase)}$$\n",
    "\n",
    "Analogamente, para encontrarmos a probabilidade dele ser irrelevante, podemos fazer o mesmo cálculo:\n",
    "\n",
    "$$P(I|frase) = \\frac{P(\"meu\"|I).P(\"avô\"|I).P(\"ama\"|I).P(\"isso\"|I).P(I)}{P(frase)}$$\n",
    "\n",
    "Agora, basta compararmos os valores das probabilidades:\n",
    "\n",
    "Se, $P(R|frase) > P(I|frase)$, então, é mais provável que a frase seja $relevante$\n",
    "\n",
    "\n",
    "Caso contrário, $P(R|frase) < P(I|frase)$, então, é mais provável que a frase seja $irrelevante$"
   ]
  },
  {
   "cell_type": "markdown",
   "metadata": {},
   "source": [
    "### Suavização de Laplace\n",
    "\n",
    "É importante ressaltar que para o caso de uma determina palavra em uma frase não pertencer ao nosso conjunto universo, a probabilidade atribuida a essa palavra será zero. Porém, não podemos utilizar a probabilidade de 0 por razões algébricas, portanto, utilizaremos a <b><em>Suavização de Laplace</em></b>. Basicamente essa ferramenta irá nos ajudar a inserir a palavra \"estranha\" no quesito probabilístico das categorias discutidas.\n",
    "\n",
    "$$P(palavra|W) = \\frac{F_{AW}+1}{P_{W}+P_{P}}$$\n",
    "\n",
    "Onde: \n",
    "\n",
    "$ F_{AW} \\rightarrow$ Frequência absoluta da palavra na categoria W\n",
    "    \n",
    "$P_{W} \\rightarrow$ Todas as palavras pertencentes às frases rotuladas como da categoria W\n",
    "    \n",
    "$P_{P} \\rightarrow$ Todas as palavras possíveis sem repetição\n",
    "\n",
    "Nesse sentido, tome $W$ como sendo o evento $R$ e $W^c$ como sendo o evento $I$ ou $R^C$. Dessa forma, a soma do valor 1 faz com que o nosso resultado de $P(R|frase)$ ou $P(I|frase)$ nunca se torne zero, mesmo que a frequência absoluta da palavra seja zero.\n"
   ]
  },
  {
   "cell_type": "code",
   "execution_count": 26,
   "metadata": {},
   "outputs": [],
   "source": [
    "'''\n",
    "A suavização de Laplace será utilizada para os casos em que uma determinada palavra da frase não se encontra \n",
    "no conjunto universo.\n",
    "'''\n",
    "def smoothing(palavra, relevancia, freq_palavras_abs, alfa=1):\n",
    "    '''\n",
    "    alfa -> Parâmetro de suavização\n",
    "    alfa = 1 (Suavização de Laplace)\n",
    "    alfa < 1 (Suavização de Lidstone)\n",
    "    '''\n",
    "    try:\n",
    "        FAW = freq_palavras_abs[palavra]\n",
    "    except:\n",
    "        FAW = 0\n",
    "    if relevancia == 'R':\n",
    "        return (FAW + alfa) / (len(lista_palavras_rel) + alfa * len(lista_palavras_sem_repeticao))\n",
    "    return (FAW + alfa) / (len(lista_palavras_irrel) + alfa * len(lista_palavras_sem_repeticao))"
   ]
  },
  {
   "cell_type": "code",
   "execution_count": 27,
   "metadata": {},
   "outputs": [],
   "source": [
    "# Função que calcula a probabilidade que queremos para fazer a desigualdade e decidir a categoria mais provável\n",
    "def P(relevancia, frase):\n",
    "    if type(frase) != list:\n",
    "        frase = tokenize(frase)\n",
    "    if relevancia == 'R':\n",
    "        P_F_dado_R = 1\n",
    "        for palavra in frase:\n",
    "            P_F_dado_R *= smoothing(palavra, relevancia, freq_palavras_relevantes_abs)\n",
    "        P_R_dado_F = P_F_dado_R * P_R\n",
    "        return P_R_dado_F\n",
    "            \n",
    "    elif relevancia == 'I' or relevancia == 'Rc':\n",
    "        P_F_dado_Rc = 1\n",
    "        for palavra in frase:\n",
    "            P_F_dado_Rc *= smoothing(palavra, relevancia, freq_palavras_irrelevantes_abs)\n",
    "        P_Rc_dado_F = P_F_dado_Rc * P_Rc\n",
    "        return P_Rc_dado_F\n",
    "    return None"
   ]
  },
  {
   "cell_type": "code",
   "execution_count": 28,
   "metadata": {},
   "outputs": [],
   "source": [
    "# Função final que recorre ao modelo de Naive Bayes\n",
    "def NaiveBayesModel(frase):\n",
    "    if P('R', frase) > P('I', frase):\n",
    "        return 1\n",
    "    return 0"
   ]
  },
  {
   "cell_type": "code",
   "execution_count": 29,
   "metadata": {},
   "outputs": [],
   "source": [
    "# Função final que recorre ao modelo de Naive Bayes\n",
    "def NaiveBayesModel_MonteCarlo(frase):\n",
    "    p1 = P('R', frase)\n",
    "    p2 = P('I', frase)\n",
    "    if p1 > 0.6 or p2 > 0.6:\n",
    "        if p1 > p2:\n",
    "            return 1\n",
    "        return 0\n",
    "    else:\n",
    "        p1_plus_p2 = p1 + p2\n",
    "        lambda_1 = p1 / p1_plus_p2\n",
    "        lambda_2 = p2 / p1_plus_p2\n",
    "        z = random.random()\n",
    "        if z < lambda_1:\n",
    "            return 1\n",
    "        return 0"
   ]
  },
  {
   "cell_type": "markdown",
   "metadata": {},
   "source": [
    "### Análise do classificador utilizando a própria base de dados\n",
    "\n",
    "Aqui utilizaremos o classificador para ver sua performance com sua própria base de dados. O intuito é checar a possibilidade de overfitting."
   ]
  },
  {
   "cell_type": "code",
   "execution_count": 30,
   "metadata": {},
   "outputs": [],
   "source": [
    "tabela_train = train.copy()"
   ]
  },
  {
   "cell_type": "code",
   "execution_count": 31,
   "metadata": {},
   "outputs": [
    {
     "data": {
      "text/html": [
       "<div>\n",
       "<style scoped>\n",
       "    .dataframe tbody tr th:only-of-type {\n",
       "        vertical-align: middle;\n",
       "    }\n",
       "\n",
       "    .dataframe tbody tr th {\n",
       "        vertical-align: top;\n",
       "    }\n",
       "\n",
       "    .dataframe thead th {\n",
       "        text-align: right;\n",
       "    }\n",
       "</style>\n",
       "<table border=\"1\" class=\"dataframe\">\n",
       "  <thead>\n",
       "    <tr style=\"text-align: right;\">\n",
       "      <th></th>\n",
       "      <th>Treinamento</th>\n",
       "      <th>Relevancia</th>\n",
       "      <th>Clean</th>\n",
       "      <th>Modelo</th>\n",
       "    </tr>\n",
       "  </thead>\n",
       "  <tbody>\n",
       "    <tr>\n",
       "      <th>0</th>\n",
       "      <td>@agtha_harkness @mobiusdaavt @pooldeangostoso ...</td>\n",
       "      <td>0.0</td>\n",
       "      <td>ajud</td>\n",
       "      <td>0</td>\n",
       "    </tr>\n",
       "    <tr>\n",
       "      <th>1</th>\n",
       "      <td>@chiidenoir amg esquece\\nela shippa thor e loki</td>\n",
       "      <td>1.0</td>\n",
       "      <td>amg esquec shipp thor lok</td>\n",
       "      <td>1</td>\n",
       "    </tr>\n",
       "    <tr>\n",
       "      <th>2</th>\n",
       "      <td>a menina falando mal de loki puta que pariu se...</td>\n",
       "      <td>1.0</td>\n",
       "      <td>menin fal mal lok put par mat put bom gost</td>\n",
       "      <td>1</td>\n",
       "    </tr>\n",
       "    <tr>\n",
       "      <th>3</th>\n",
       "      <td>@octavio_guedes a técnica para dar volume: ao ...</td>\n",
       "      <td>0.0</td>\n",
       "      <td>tecnic par dar volum inves convoc manifestaco ...</td>\n",
       "      <td>0</td>\n",
       "    </tr>\n",
       "    <tr>\n",
       "      <th>4</th>\n",
       "      <td>@loki__mugo fuliza inanidai ata</td>\n",
       "      <td>0.0</td>\n",
       "      <td>fuliz inanida ata</td>\n",
       "      <td>0</td>\n",
       "    </tr>\n",
       "    <tr>\n",
       "      <th>...</th>\n",
       "      <td>...</td>\n",
       "      <td>...</td>\n",
       "      <td>...</td>\n",
       "      <td>...</td>\n",
       "    </tr>\n",
       "    <tr>\n",
       "      <th>793</th>\n",
       "      <td>@clintarqueiro @bracinhodeferro @meupai_eadory...</td>\n",
       "      <td>0.0</td>\n",
       "      <td>amor</td>\n",
       "      <td>0</td>\n",
       "    </tr>\n",
       "    <tr>\n",
       "      <th>794</th>\n",
       "      <td>eu fico toda coisada pelo loki</td>\n",
       "      <td>1.0</td>\n",
       "      <td>fic tod cois pel lok</td>\n",
       "      <td>1</td>\n",
       "    </tr>\n",
       "    <tr>\n",
       "      <th>795</th>\n",
       "      <td>@sylvielaufeydit @bracinhodeferro @meupai_eado...</td>\n",
       "      <td>0.0</td>\n",
       "      <td>sei ate oq vai fal</td>\n",
       "      <td>0</td>\n",
       "    </tr>\n",
       "    <tr>\n",
       "      <th>796</th>\n",
       "      <td>@kookvlong pode</td>\n",
       "      <td>0.0</td>\n",
       "      <td>pod</td>\n",
       "      <td>0</td>\n",
       "    </tr>\n",
       "    <tr>\n",
       "      <th>797</th>\n",
       "      <td>amo a epifania q estou tendo com loki pq acho ...</td>\n",
       "      <td>1.0</td>\n",
       "      <td>amo epifan tend lok acho sent tud sent vend ab...</td>\n",
       "      <td>1</td>\n",
       "    </tr>\n",
       "  </tbody>\n",
       "</table>\n",
       "<p>798 rows × 4 columns</p>\n",
       "</div>"
      ],
      "text/plain": [
       "                                           Treinamento  Relevancia  \\\n",
       "0    @agtha_harkness @mobiusdaavt @pooldeangostoso ...         0.0   \n",
       "1      @chiidenoir amg esquece\\nela shippa thor e loki         1.0   \n",
       "2    a menina falando mal de loki puta que pariu se...         1.0   \n",
       "3    @octavio_guedes a técnica para dar volume: ao ...         0.0   \n",
       "4                      @loki__mugo fuliza inanidai ata         0.0   \n",
       "..                                                 ...         ...   \n",
       "793  @clintarqueiro @bracinhodeferro @meupai_eadory...         0.0   \n",
       "794                     eu fico toda coisada pelo loki         1.0   \n",
       "795  @sylvielaufeydit @bracinhodeferro @meupai_eado...         0.0   \n",
       "796                                    @kookvlong pode         0.0   \n",
       "797  amo a epifania q estou tendo com loki pq acho ...         1.0   \n",
       "\n",
       "                                                 Clean  Modelo  \n",
       "0                                                 ajud       0  \n",
       "1                            amg esquec shipp thor lok       1  \n",
       "2           menin fal mal lok put par mat put bom gost       1  \n",
       "3    tecnic par dar volum inves convoc manifestaco ...       0  \n",
       "4                                    fuliz inanida ata       0  \n",
       "..                                                 ...     ...  \n",
       "793                                               amor       0  \n",
       "794                               fic tod cois pel lok       1  \n",
       "795                                 sei ate oq vai fal       0  \n",
       "796                                                pod       0  \n",
       "797  amo epifan tend lok acho sent tud sent vend ab...       1  \n",
       "\n",
       "[798 rows x 4 columns]"
      ]
     },
     "execution_count": 31,
     "metadata": {},
     "output_type": "execute_result"
    }
   ],
   "source": [
    "tabela_train['Modelo'] = tabela_train['Clean'].apply(NaiveBayesModel)\n",
    "tabela_train"
   ]
  },
  {
   "cell_type": "code",
   "execution_count": 32,
   "metadata": {},
   "outputs": [
    {
     "name": "stdout",
     "output_type": "stream",
     "text": [
      "O percentual de verdadeiros positivos foi de: 34.96%\n",
      "O percentual de falsos positivos foi de: 6.27%\n"
     ]
    }
   ],
   "source": [
    "verdadeiros_positivos = tabela_train.loc[(tabela_train['Modelo'] == 1) & (tabela_train['Relevancia'] == 1),:].shape[0]\n",
    "falsos_positivos = tabela_train.loc[(tabela_train['Modelo'] == 1) & (tabela_train['Relevancia'] == 0),:].shape[0]\n",
    "print(f'O percentual de verdadeiros positivos foi de: {100*(verdadeiros_positivos)/tabela_train.shape[0]:.2f}%')\n",
    "print(f'O percentual de falsos positivos foi de: {100*(falsos_positivos)/tabela_train.shape[0]:.2f}%')"
   ]
  },
  {
   "cell_type": "code",
   "execution_count": 33,
   "metadata": {},
   "outputs": [
    {
     "name": "stdout",
     "output_type": "stream",
     "text": [
      "O percentual de verdadeiros negativo foi de: 57.14%\n",
      "O percentual de falsos negativo foi de: 1.50%\n"
     ]
    }
   ],
   "source": [
    "verdadeiros_negativos = tabela_train.loc[(tabela_train['Modelo'] == 0) & (tabela_train['Relevancia'] == 0),:].shape[0]\n",
    "falsos_negativos = tabela_train.loc[(tabela_train['Modelo'] == 0) & (tabela_train['Relevancia'] == 1),:].shape[0]\n",
    "print(f'O percentual de verdadeiros negativo foi de: {100*(verdadeiros_negativos)/tabela_train.shape[0]:.2f}%')\n",
    "print(f'O percentual de falsos negativo foi de: {100*(falsos_negativos)/tabela_train.shape[0]:.2f}%')"
   ]
  },
  {
   "cell_type": "code",
   "execution_count": 34,
   "metadata": {},
   "outputs": [
    {
     "name": "stdout",
     "output_type": "stream",
     "text": [
      "A acurácia do modelo foi de: 92.11%\n"
     ]
    }
   ],
   "source": [
    "print(f'A acurácia do modelo foi de: {100*(verdadeiros_negativos+verdadeiros_positivos)/tabela_train.shape[0]:.2f}%')"
   ]
  },
  {
   "cell_type": "code",
   "execution_count": null,
   "metadata": {},
   "outputs": [],
   "source": []
  },
  {
   "cell_type": "markdown",
   "metadata": {},
   "source": [
    "___\n",
    "### Verificando a performance do Classificador\n",
    "\n",
    "Agora você deve testar o seu classificador com a base de Testes."
   ]
  },
  {
   "cell_type": "code",
   "execution_count": 35,
   "metadata": {},
   "outputs": [],
   "source": [
    "test['Modelo'] = test['Clean'].apply(NaiveBayesModel)"
   ]
  },
  {
   "cell_type": "code",
   "execution_count": 36,
   "metadata": {},
   "outputs": [
    {
     "name": "stdout",
     "output_type": "stream",
     "text": [
      "O percentual de verdadeiros positivos foi de: 27.36%\n",
      "O percentual de falsos positivos foi de: 27.36%\n"
     ]
    }
   ],
   "source": [
    "verdadeiros_positivos = test.loc[(test['Modelo'] == 1) & (test['Relevancia'] == 1),:].shape[0]\n",
    "falsos_positivos = test.loc[(test['Modelo'] == 1) & (test['Relevancia'] == 0),:].shape[0]\n",
    "print(f'O percentual de verdadeiros positivos foi de: {100*(verdadeiros_positivos)/test.shape[0]:.2f}%')\n",
    "print(f'O percentual de falsos positivos foi de: {100*(falsos_positivos)/test.shape[0]:.2f}%')"
   ]
  },
  {
   "cell_type": "code",
   "execution_count": 37,
   "metadata": {},
   "outputs": [
    {
     "name": "stdout",
     "output_type": "stream",
     "text": [
      "O percentual de verdadeiros negativo foi de: 38.81%\n",
      "O percentual de falsos negativo foi de: 6.47%\n"
     ]
    }
   ],
   "source": [
    "verdadeiros_negativos = test.loc[(test['Modelo'] == 0) & (test['Relevancia'] == 0),:].shape[0]\n",
    "falsos_negativos = test.loc[(test['Modelo'] == 0) & (test['Relevancia'] == 1),:].shape[0]\n",
    "print(f'O percentual de verdadeiros negativo foi de: {100*(verdadeiros_negativos)/test.shape[0]:.2f}%')\n",
    "print(f'O percentual de falsos negativo foi de: {100*(falsos_negativos)/test.shape[0]:.2f}%')"
   ]
  },
  {
   "cell_type": "code",
   "execution_count": 38,
   "metadata": {},
   "outputs": [
    {
     "name": "stdout",
     "output_type": "stream",
     "text": [
      "A acurácia do modelo foi de: 66.17%\n"
     ]
    }
   ],
   "source": [
    "print(f'A acurácia do modelo foi de: {100*(verdadeiros_negativos+verdadeiros_positivos)/test.shape[0]:.2f}%')"
   ]
  },
  {
   "cell_type": "code",
   "execution_count": 39,
   "metadata": {},
   "outputs": [],
   "source": [
    "# Função importante para o último item desse projeto\n",
    "def calcula_metricas(testing):\n",
    "    verdadeiros_positivos = testing.loc[(testing['Modelo'] == 1) & (testing['Relevancia'] == 1),:].shape[0]\n",
    "    falsos_positivos = testing.loc[(testing['Modelo'] == 1) & (testing['Relevancia'] == 0),:].shape[0]\n",
    "    verdadeiros_negativos = testing.loc[(testing['Modelo'] == 0) & (testing['Relevancia'] == 0),:].shape[0]\n",
    "    falsos_negativos = testing.loc[(testing['Modelo'] == 0) & (testing['Relevancia'] == 1),:].shape[0]\n",
    "    acuracia = (verdadeiros_negativos+verdadeiros_positivos)\n",
    "    return (verdadeiros_positivos * 100)/test.shape[0], (falsos_positivos * 100)/test.shape[0], (verdadeiros_negativos * 100)/test.shape[0], (falsos_negativos * 100)/test.shape[0], (acuracia * 100)/test.shape[0]"
   ]
  },
  {
   "cell_type": "markdown",
   "metadata": {},
   "source": [
    "#### Mapa de Calor\n",
    "Para visualizar melhor os percentuais, vamos utilizar a biblioteca Seaborn para plotar um mapa de calor, a partir de uma tabela cruzada que será criada na célula seguinte."
   ]
  },
  {
   "cell_type": "code",
   "execution_count": 40,
   "metadata": {},
   "outputs": [
    {
     "data": {
      "image/png": "[encoded data removed]",
      "text/plain": [
       "<Figure size 720x504 with 2 Axes>"
      ]
     },
     "metadata": {
      "needs_background": "light"
     },
     "output_type": "display_data"
    }
   ],
   "source": [
    "tabela_cruzada = pd.crosstab(test.Relevancia, test.Modelo, normalize=True)\n",
    "plt.figure(figsize=(10,7))\n",
    "plt.title('Mapa de calor')\n",
    "sn.heatmap(tabela_cruzada, annot=True, annot_kws={\"size\": 30}, fmt='.1%', cmap='YlGnBu')\n",
    "plt.show()"
   ]
  },
  {
   "cell_type": "markdown",
   "metadata": {},
   "source": [
    "___\n",
    "### Concluindo"
   ]
  },
  {
   "cell_type": "markdown",
   "metadata": {},
   "source": [
    "   No classificador automático criado, que tem por objetivo adotar critérios acerca dos sentimentos sobre a série, como visto  no mapa de calor e seus dados de precisão, há uma acurácia de 53.50%, com um percentual de verdadeiros negativo de 37.50% e um percentual de falsos negativo de 18.00%.\n",
    "   \n",
    "   Dentro deste universo, é essencial acrescentar que os grandes responsáveis por esses erros são os falsos positivos, já que trazem uma caracterização errônea ao classificador em questão. Desta forma, também é importante destacar que ao promover o uso de um data base pequeno, o algorítmo criado apresenta uma classificação mais arbritrária, enquanto que se a mesma for feita por mais informações e informações mais abrangentes, apresentará resultados mais satisfatórios e precisos, dentro de uma 'subjetividade' criada por probabilidades e espaços amostrais que envolvem os dados em questão. Com isso, sendo possível receber um output biinário resposável por definir os mesmos em relevantes, ou ainda, irrelevantes. Ou seja, classificar automaticamente os dados em questão.\n",
    "  \n",
    "   Contudo, pode-se definir, por fim, um funcionamento adequado ao próprio classificador, mas não ideal, sendo que uma vez que \"naive\" (ou seja, ingênuo) desconsidera a relação entre as palavras, abrindo brechas para classificações incorretas acerca dos procedimentos de sarcasmo, dupla negação, ironia, ambiguidade e figuras de linguagem - sendo sarcasmo e dupla negação discutidos abaixo. Fato que mesmo o aumento dos dados coletados por ele podem não sanar, tendo em mente apenas a eficácia da análise matemática e não de granática, sentido ou sintaxe aplicadas aos tweets.\n",
    "   \n",
    "   Através disso, tendo em vista o funcionamento adequado do produto em questão (dentro de aspectos matemáticos), essa funcionalidade poderia de fato ser expandida para outros universos, como a comparação de avaliações positivas e negativas acerca de um determinado produto, ou ainda, coletando a relevância de feedbacks apresentados pelos usuários de determidao produto-serviço, a fim de potencializar a sua eficácia e produtividade. Deste modo, sendo intrínseco ao projeto a necessidade contínua de alimentação financeira, para que o classificador criado possa continuar em andamento, se desenvolvendo e abrangindo maiores ramos no mundo de coleta e classificação de dados, tanto para pesquisa de satisfação quanto para melhoria dos ideias de certa empresa."
   ]
  },
  {
   "cell_type": "markdown",
   "metadata": {},
   "source": [
    "#### Por que a acurácia do classificador é maior quando se utiliza a própria base de treinamento e menor quando se utiliza a base de teste?\n",
    "\n",
    "Sobretudo, num contexto de um pequeno data set, ocorrerá um efeito chamado <b>Overfitting</b>, que ocorre devido ao fato de o conjunto de treinamento não ser suficientemente grande para gerar classificações mais acertivas quando o sistema recebe novas instâncias (novos tweets). Em outras palavras, o classificador se ajusta muito bem ao conjunto de treinamento, porém não possui uma generalização significativa na classificação do conjunto de teste.\n",
    "\n",
    "Esse efeito pode ser simbolizado pelo gráfico a seguir:\n",
    "\n",
    "<img src=\"assets/overfitting_2.png\" width=400 >\n",
    "<center><b>Figura 1 - Visualização do overfitting para data sets pequenos</b></center>"
   ]
  },
  {
   "cell_type": "markdown",
   "metadata": {},
   "source": [
    "####  Por que não posso alimentar minha base de Treinamento automaticamente usando o próprio classificador?\n",
    "\n",
    "Como vimos anteriormente, existe uma simplificação que fizemos na implementação do modelo que pode prejudicar o julgamento do algoritmo ao receber uma nova instância (novo tweet). Em tópicos anteriores vimos que as considerações foram estritamente algébricas, não levando em conta o valor semântico, gramático e a influência de uma palavra às demais da frase.\n",
    "\n",
    "Nesse sentido, ao utilizarmos o próprio classificador para alimentar a base de treinamento, estaríamos propagando um viés cada vez maior, prejudicando o treinamento do nosso modelo. Dessa forma, é preciso que os tweets sejam rotulados manualmente e com um critério estático, mesmo que isso apresente um certo grau de subjetividade. É importante mencionar que esse tipo de sistema de aprendizado é Supervisionado, portanto, é necessário que nosso conjunto de treinamento esteja rotulado de forma adequada para que obtenhamos o máximo de êxito ao classificar uma nova instância.\n",
    "\n"
   ]
  },
  {
   "cell_type": "markdown",
   "metadata": {},
   "source": [
    "### Sarcasmo e dupla negação\n",
    "\n",
    "<b>1) Sarcasmo</b>\n",
    "\n",
    "Este tópico é pautado em uma consideração que fizemos para a construção do modelo. Como vimos, por questões de simplificação, o classificador de Naive Bayes considera a independência entre as palavras (<b>a ingenuidade de Naive Bayes</b>). Apesar de ser uma consideração razoável, é possível prever que o classificador não funciona muito bem diante de um tweet sarcástico, por exemplo. \n",
    "\n",
    "Diante disso, acompanhe um caso que pode ser um bom exemplo disso:"
   ]
  },
  {
   "cell_type": "code",
   "execution_count": 41,
   "metadata": {},
   "outputs": [
    {
     "name": "stdout",
     "output_type": "stream",
     "text": [
      "A frase 1 é RELEVANTE\n"
     ]
    }
   ],
   "source": [
    "frase_1 = 'eu amo loki tanto quanto tomar uma paulada'\n",
    "if NaiveBayesModel(frase_1) == 1:\n",
    "    print('A frase 1 é RELEVANTE')\n",
    "else:\n",
    "    print('A frase 1 é IRRELEVANTE')"
   ]
  },
  {
   "cell_type": "markdown",
   "metadata": {},
   "source": [
    "<b>2) Dupla Negação</b>\n",
    "\n",
    "Analogamente ao caso anterior, é possível estender essa análise para frases com dupla negação. \n",
    "\n",
    "Diante disso, acompanhe um caso que pode ser um bom exemplo disso:\n"
   ]
  },
  {
   "cell_type": "code",
   "execution_count": 42,
   "metadata": {},
   "outputs": [
    {
     "name": "stdout",
     "output_type": "stream",
     "text": [
      "A frase 2 é RELEVANTE\n"
     ]
    }
   ],
   "source": [
    "frase_2 = 'loki não é nada agradável'\n",
    "if NaiveBayesModel(frase_2) == 1:\n",
    "    print('A frase 2 é RELEVANTE')\n",
    "else:\n",
    "    print('A frase 2 é IRRELEVANTE')"
   ]
  },
  {
   "cell_type": "markdown",
   "metadata": {},
   "source": [
    "Com os exemplos acima é possível inferir, portanto, que tweets de caráter sarcástico ou com dupla negação muito provavelmente serão classificados de maneira errônea. Isso se deve, sobretudo, à <b>ingenuidade do classificador de Naive Bayes</b>. "
   ]
  },
  {
   "cell_type": "markdown",
   "metadata": {},
   "source": [
    "### Novos cenários para o classificador de Naive Bayes\n",
    "\n",
    "<b>1)</b> A aplicação do modelo ingênuo de Bayes para prever a doença de Alzheimer a partir de dados de todo o genoma (Wei Wei, et al. 2011)\n",
    "\n",
    "Nesse artigo, é utilizado o modelo de Naive Bayes para identificar e prever a doença de Alzheimer. O ponto princípio da implementação se encontro no tópico \"<b>The naive Bayes model</b>\", onde ele mostra a consideração que aqui discutimos:\n",
    "\n",
    "<img src=\"assets/ox_article.png\" width=400 >\n",
    "<center><b>Figura 1 - Consideração da Ingenuidade do modelo</b></center>\n",
    "\n",
    "Nesse caso, as features são os componentes pertencentes ao genoma (fazendo o paralelo, seriam a substituição das palavras dos nossos tweets). Dessa forma, é possível ver uma primeira grande aplicação para o modelo de Naive Bayes, que ainda não havia sido discutida.\n",
    "\n",
    "* Fonte: https://academic.oup.com/jamia/article/18/4/370/732731?login=true\n",
    "\n",
    "<b>2)</b> Uma nova aplicação do classificador Naive Bayes na previsão de energia fotovoltaica (Ramazan Bayindir, et al. 2017)\n",
    "\n",
    "Nesse artigo, é utilizado o modelo de Naive Bayes para identificar e prever a quantidade de energia gerada por paineis fotovoltaicos. Os pesquisadores utilizaram um conjunto de dados coletados por 1 ano, que registram valores de varias features como temperatura e duração total do sol. \n",
    "\n",
    "As aplicações do modelo de Naive Bayes nesse artigo podem ser de fundamental importância no mundo contemporânea, haja vista a necessidade de cada vez mais aplicações de energias limpas (como a energia solar) e para tanto, é necessário um aparato tecnológico consistente para tal atividade.\n",
    "\n",
    "* Fonte: https://ieeexplore.ieee.org/abstract/document/8260684\n",
    "\n",
    "<b>3)</b> Filtro de spam utilizando o modelo de Naive Bayes (DILIP KUMAR, et al. 2018)\n",
    "\n",
    "Nesse artigo do famoso site Kaggle, é possível ver uma aplicação muito interessante (e presente no nosso cotidiano) de um filtro de Spam utilizando o modelo de Naive Bayes. Com um grande número de e-mails já rotulados, será possível criar o modelo exatamente como fizemos nesta aplicação. Portanto, temos uma mudança significativa de ambiente, porém utilizaremos o mesmo sistema de aprendizado para tal.\n",
    "\n",
    "\n",
    "* Fonte: https://www.kaggle.com/dilip990/spam-ham-detection-using-naive-bayes-classifier"
   ]
  },
  {
   "cell_type": "markdown",
   "metadata": {},
   "source": [
    "### Sugestões de melhorias para o Classificador\n",
    "\n",
    "##### 1) Stemming and Lemmatization\n",
    "\n",
    "   O stemming de palavras pode ser um caminho muito pertinente para a melhoria da acurácia (Utilizado nesse projeto). A técnica consiste em transformar as palavras da frase em sua raiz (que pode acabar resultando em palavras que não existe). Em contrapartida, o Lemmatization obtém sua forma canonica e gramaticalmente correta. Ambas as técnicas despendem um grande custo computacional e impactam a performance da classificação, porém podem ser uma solução para elevar o percentual de acurácia.\n",
    "   \n",
    "   Nesse sentido, é possível utilizar a biblioteca de linguagem natural <b>(nltk - Natural Language Toolkit)</b>, caso você não tenha essa biblioteca instalada utilize o comando:\n",
    "\n",
    ">**!pip install nltk**\n",
    "\n",
    "   * Para mais informações, acesse o site oficial: https://www.nltk.org/\n",
    "   \n",
    "   * Outro link que pode ajudar: [Artigo Datacamp tutorial](https://www.datacamp.com/community/tutorials/stemming-lemmatization-python?utm_source=adwords_ppc&utm_campaignid=1455363063&utm_adgroupid=65083631748&utm_device=c&utm_keyword=&utm_matchtype=&utm_network=g&utm_adpostion=&utm_creative=278443377095&utm_targetid=aud-392016246653:dsa-429603003980&utm_loc_interest_ms=&utm_loc_physical_ms=1001773&gclid=Cj0KCQjwv5uKBhD6ARIsAGv9a-xGXnN7nhmmTGQ-Fdgb38Qz92hH3S3LnFQOyoOz1Mta4OCa4enwGg8aAseSEALw_wcB)"
   ]
  },
  {
   "cell_type": "markdown",
   "metadata": {},
   "source": [
    "##### 2) Formação de N-gramas de palavras\n",
    "\n",
    "   A formação de N-gramas pode contrabalancear o problema da Ingenuidade do modelo. A consideração de que as palavras são independentes umas das outras, apesar de funcionar, prejudica o julgamento do sistema de aprendizado para novas instâncias. Logo, uma maneira de deixar o modelo mais sólido é construir N-gramas na formação das palavras.\n",
    "   Segundo estudos (Vlado Keˇselj, et al 2003), é possível melhorar significativamente a acurácia de textos em inglês utilizando N-gramas com N entre 4 e 8. Portanto, um tópico que poderia ser abordado é a formação de N-gramas.\n",
    "   \n",
    "   Nesse sentido, é possível utilizar a biblioteca de linguagem natural <b>(nltk - Natural Language Toolkit)</b>, caso você não tenha essa biblioteca instalada utilize o comando:\n",
    "\n",
    ">**!pip install nltk**\n",
    "\n",
    "   Com a biblioteca instalada, utilize os comandos a seguir para gerar seus N-gramas (lembre-se da tokenização):"
   ]
  },
  {
   "cell_type": "code",
   "execution_count": 43,
   "metadata": {},
   "outputs": [
    {
     "name": "stdout",
     "output_type": "stream",
     "text": [
      "('Estou', 'interessado')\n",
      "('interessado', 'em')\n",
      "('em', 'aprender')\n",
      "('aprender', 'Machine')\n",
      "('Machine', 'Learning')\n",
      "('Estou', 'interessado', 'em')\n",
      "('interessado', 'em', 'aprender')\n",
      "('em', 'aprender', 'Machine')\n",
      "('aprender', 'Machine', 'Learning')\n"
     ]
    }
   ],
   "source": [
    "# import nltk\n",
    "my_text = 'Estou interessado em aprender Machine Learning'\n",
    "words = tokenize(my_text)\n",
    "my_bigrams = nltk.bigrams(words)\n",
    "my_trigrams = nltk.trigrams(words)\n",
    "for word in my_bigrams:\n",
    "    print(word)\n",
    "for word in my_trigrams:\n",
    "    print(word)"
   ]
  },
  {
   "cell_type": "markdown",
   "metadata": {},
   "source": [
    "* Para mais informações, acesse o site oficial: https://www.nltk.org/"
   ]
  },
  {
   "cell_type": "markdown",
   "metadata": {},
   "source": [
    "##### 3) Aumentar o tamanho da base de dados de treinamento\n",
    "\n",
    "   Das várias propostas possíveis, essa é uma das mais intuitivas. Em tópicos anteriores, falamos a respeito dos efeitos negativos de se utilizar uma base de dados pequena, ao aumentarmos o nosso conjunto de amostras (lembre-se do bag of word model) daremos mais instâncias para o nosso sistema se basear e aprender a classificar instâncias não vistas antes. \n",
    "\n",
    "Dessa forma, uma saída possível é classificarmos cada vez mais tweets para alimentar mais nossa base de treinamente e conferir maior acurácia para nosso modelo."
   ]
  },
  {
   "cell_type": "markdown",
   "metadata": {},
   "source": [
    "##### 4) Utilização do método de Monte Carlo para variáveis aleatórias\n",
    "\n",
    "   Como vimos até aqui, o modelo de Naive Bayes utiliza a comparação de duas probabilidades condicionais através do teorema de Bayes. Para decidir a relevância ou não, só verificamos qual probabilidade é maior e atribuimos a esta a classifição da nova instância. Porém, apesar de ser considerada a mais provável, ainda é possível que a menos provável seja a classificação real. Aqui entra o método de Monte Carlo. É possível gerar números aleatório no intervalo de 0 a 1, caso o número gerado seja menor que a probabilidade de ser relevante dado um tweet, essa instância será classificada como relevante, caso contrário, como irrelevante. Vale ressaltar que esse método provavelmente será mais eficaz quando a base de dados for suficientemente grande."
   ]
  },
  {
   "cell_type": "markdown",
   "metadata": {},
   "source": [
    "___\n",
    "### Qualidade do Classificador a partir de novas separações dos tweets entre Treinamento e Teste\n",
    "\n",
    "Caso for fazer esse item do Projeto"
   ]
  },
  {
   "cell_type": "code",
   "execution_count": 44,
   "metadata": {},
   "outputs": [
    {
     "data": {
      "text/html": [
       "<div>\n",
       "<style scoped>\n",
       "    .dataframe tbody tr th:only-of-type {\n",
       "        vertical-align: middle;\n",
       "    }\n",
       "\n",
       "    .dataframe tbody tr th {\n",
       "        vertical-align: top;\n",
       "    }\n",
       "\n",
       "    .dataframe thead th {\n",
       "        text-align: right;\n",
       "    }\n",
       "</style>\n",
       "<table border=\"1\" class=\"dataframe\">\n",
       "  <thead>\n",
       "    <tr style=\"text-align: right;\">\n",
       "      <th></th>\n",
       "      <th>Total</th>\n",
       "      <th>Relevancia</th>\n",
       "      <th>Clean</th>\n",
       "    </tr>\n",
       "  </thead>\n",
       "  <tbody>\n",
       "    <tr>\n",
       "      <th>0</th>\n",
       "      <td>@agtha_harkness @mobiusdaavt @pooldeangostoso ...</td>\n",
       "      <td>0.0</td>\n",
       "      <td>ajud</td>\n",
       "    </tr>\n",
       "    <tr>\n",
       "      <th>1</th>\n",
       "      <td>@chiidenoir amg esquece\\nela shippa thor e loki</td>\n",
       "      <td>1.0</td>\n",
       "      <td>amg esquec shipp thor lok</td>\n",
       "    </tr>\n",
       "    <tr>\n",
       "      <th>2</th>\n",
       "      <td>a menina falando mal de loki puta que pariu se...</td>\n",
       "      <td>1.0</td>\n",
       "      <td>menin fal mal lok put par mat put bom gost</td>\n",
       "    </tr>\n",
       "    <tr>\n",
       "      <th>3</th>\n",
       "      <td>@octavio_guedes a técnica para dar volume: ao ...</td>\n",
       "      <td>0.0</td>\n",
       "      <td>tecnic par dar volum inves convoc manifestaco ...</td>\n",
       "    </tr>\n",
       "    <tr>\n",
       "      <th>4</th>\n",
       "      <td>@loki__mugo fuliza inanidai ata</td>\n",
       "      <td>0.0</td>\n",
       "      <td>fuliz inanida ata</td>\n",
       "    </tr>\n",
       "  </tbody>\n",
       "</table>\n",
       "</div>"
      ],
      "text/plain": [
       "                                               Total  Relevancia  \\\n",
       "0  @agtha_harkness @mobiusdaavt @pooldeangostoso ...         0.0   \n",
       "1    @chiidenoir amg esquece\\nela shippa thor e loki         1.0   \n",
       "2  a menina falando mal de loki puta que pariu se...         1.0   \n",
       "3  @octavio_guedes a técnica para dar volume: ao ...         0.0   \n",
       "4                    @loki__mugo fuliza inanidai ata         0.0   \n",
       "\n",
       "                                               Clean  \n",
       "0                                               ajud  \n",
       "1                          amg esquec shipp thor lok  \n",
       "2         menin fal mal lok put par mat put bom gost  \n",
       "3  tecnic par dar volum inves convoc manifestaco ...  \n",
       "4                                  fuliz inanida ata  "
      ]
     },
     "execution_count": 44,
     "metadata": {},
     "output_type": "execute_result"
    }
   ],
   "source": [
    "test_split = pd.read_excel(filename, sheet_name = 'Teste').rename(columns={'Teste':'Total'})\n",
    "\n",
    "train_split = pd.read_excel(filename, sheet_name = 'Treinamento').rename(columns={'Treinamento':'Total'})\n",
    "\n",
    "#Concatenando\n",
    "full_data = pd.concat([train_split,test_split])\n",
    "\n",
    "#Limpando os tweets\n",
    "full_data['Clean']=full_data['Total'].apply(limpa_tweet)\n",
    "full_data.head()"
   ]
  },
  {
   "cell_type": "code",
   "execution_count": 45,
   "metadata": {},
   "outputs": [],
   "source": [
    "from sklearn.model_selection import train_test_split"
   ]
  },
  {
   "cell_type": "code",
   "execution_count": 46,
   "metadata": {},
   "outputs": [],
   "source": [
    "lista_hist=[]\n",
    "\n",
    "for i in range(100):\n",
    "    \n",
    "    #training_data, testing_data = train_test_split(full_data, test_size=0.2, random_state=random.randint(1,500))\n",
    "    \n",
    "    X_train, X_test, y_train, y_test = train_test_split(full_data[['Clean','Relevancia']],full_data.Relevancia,\n",
    "    test_size=0.3)\n",
    "    \n",
    "    train_rel_new = X_train[X_train['Relevancia']==1]\n",
    "    train_irrel_new = X_train[X_train['Relevancia']==0]\n",
    "    \n",
    "    palavras_rel = frases_to_series(train_rel_new['Clean'])\n",
    "    palavras_irrel = frases_to_series(train_irrel_new['Clean'])\n",
    "    \n",
    "    # Gera duas listas com as palavras relevantes e irrelevantes e gera uma lista total\n",
    "    lista_palavras_rel = list(palavras_rel)\n",
    "    lista_palavras_irrel = list(palavras_irrel)\n",
    "    lista_palavras = lista_palavras_rel + lista_palavras_irrel\n",
    "    lista_palavras_sem_repeticao = list(set(lista_palavras))\n",
    "    total = pd.Series(lista_palavras)\n",
    "\n",
    "    # Frequencias absolutas\n",
    "    freq_palavras_relevantes_abs = palavras_rel.value_counts()\n",
    "    freq_palavras_irrelevantes_abs = palavras_irrel.value_counts()\n",
    "    freq_palavras_total_abs = palavras.value_counts()\n",
    "\n",
    "    P_R = len(lista_palavras_rel) / len(total)\n",
    "\n",
    "    # Por complementar, temos P_Rc\n",
    "    P_Rc = len(lista_palavras_irrel) / len(total)\n",
    "    \n",
    "    assert P_R+P_Rc==1\n",
    "\n",
    "    X_test['Modelo'] = X_test['Clean'].apply(NaiveBayesModel)\n",
    "\n",
    "    verdadeiros_positivos = X_test.loc[(X_test['Modelo'] == 1) & (X_test['Relevancia'] == 1),:].shape[0]\n",
    "    verdadeiros_negativos = X_test.loc[(X_test['Modelo'] == 0) & (X_test['Relevancia'] == 0),:].shape[0]\n",
    "    acuracia = (verdadeiros_positivos + verdadeiros_negativos)/X_test.shape[0]\n",
    "    lista_hist.append(acuracia * 100)"
   ]
  },
  {
   "cell_type": "code",
   "execution_count": 47,
   "metadata": {
    "scrolled": true
   },
   "outputs": [
    {
     "data": {
      "image/png": "[encoded data removed]",
      "text/plain": [
       "<Figure size 720x360 with 1 Axes>"
      ]
     },
     "metadata": {
      "needs_background": "light"
     },
     "output_type": "display_data"
    }
   ],
   "source": [
    "faixa=np.arange(30,99,1)\n",
    "plt.figure(figsize=(10, 5))\n",
    "plt.hist(lista_hist, bins=faixa, edgecolor='black', density=False)\n",
    "plt.title('Frequencia dos scores do modelo')\n",
    "plt.ylabel('Frequência')\n",
    "plt.xlabel('Porcentagem de acerto (%)')\n",
    "plt.xlim(52.5,72.5)\n",
    "plt.show()"
   ]
  },
  {
   "cell_type": "code",
   "execution_count": 48,
   "metadata": {},
   "outputs": [
    {
     "name": "stdout",
     "output_type": "stream",
     "text": [
      "Score máximo:  71.0\n",
      "Score mínimo:  59.33\n",
      "Score médio:  65.93\n"
     ]
    }
   ],
   "source": [
    "print('Score máximo: ', round(max(lista_hist), 2))\n",
    "print('Score mínimo: ', round(min(lista_hist), 2))\n",
    "print('Score médio: ', round(sum(lista_hist)/len(lista_hist), 2))"
   ]
  },
  {
   "cell_type": "markdown",
   "metadata": {},
   "source": [
    " * Como podemos ver, a maneira como dispomos os conjuntos de teste e treino pode influenciar no score que o modelo pode alcançar. Tendo isso me vista, é imprescindível que estudos com diferentes disposições de conjuntos sejam feitas como no item anterior. Analisando o histograma, podemos observar que não seria produtivo utilizar uma única partição de conjunto de treinamento/teste, pelo falo de existir a possibilidade tanto de se obter scores elevados quanto de se obter scores mais baixos. Dessa forma, para a melhor construção do sistema de aprendizado, é imprescindível que se leve em consideração as partições de treinamento/teste que melhor se adequam aos objetivos do projeto."
   ]
  },
  {
   "cell_type": "markdown",
   "metadata": {},
   "source": [
    "___\n",
    "## Subclassificações:\n",
    "\n",
    "*Categorias Intermediárias*\n",
    "\n",
    "Criando categorias intermediárias baseadas na probabilidade relativa estipulada pelo modelo\n",
    "\n",
    "Aquém das categorias Relevante e Irrelevante é possível determinar subclassificações como: Muito Irrelevante, Irrelevante, Neutro, Reletante e Muito Relevante.\n",
    "\n",
    "Sendo o tweet X e Y, ambos classificados como relevantes. Na nova classificação considera-se que caso a probabilidade de um X ser relevante seja consideravelmente maior do que a probabilidade de um Y ser relevante, pode-se dividir essa classe em mais duas categorias. Sendo assim, tweet X a pertence a subcategoria mais relevante, enquanto que o tweet Y faz parte da menos relevante, ambos dentro da categoria \"Relevante\" (com graus da mesma distintos). Da mesma forma tweets \"Irrelevantes\" podem ser classificados, já que dentro de suas probabilidades negativas, encontram-se twees mais irrelevantes e menos irrelevantes.\n",
    "\n",
    "Sendo assim, no caso de um tweet w, que por sua vez, possui uma diferença de probabilidade ($P(R|tweetW)-P(I|tweetW)$) próxima de zero, pode-se subclassificá-lo como um tweet neutro (ou seja, nem relevante e nem irrelevante)."
   ]
  },
  {
   "cell_type": "code",
   "execution_count": 49,
   "metadata": {},
   "outputs": [],
   "source": [
    "\n",
    "def f_absoluta(palavra,freq_absoluta_conjunto):\n",
    "    \"\"\"\n",
    "    Determina as vezes que a palavra apareceu \n",
    "    na respectiva categoria sendo ela relevante ou irrelevante\n",
    "    \"\"\"\n",
    "\n",
    "    try:\n",
    "        return f_absoluta_conjunto[palavra]\n",
    "    \n",
    "    except:\n",
    "        return 0\n",
    "    \n",
    "def laplace(frequencia_absoluta,palavras_pertecentes_a_classe):\n",
    "    \"\"\"\"\"\n",
    "    Probabilidade independente da palavra analisada pertencer ou não\n",
    "    à classe\n",
    "    \"\"\"\n",
    "    return (frequencia_absoluta+1)/(len(palavras_pertecentes_a_classe)+len(lista_palavras_sem_repeticao))\n",
    "\n",
    "def P_tweet_r(tweet):\n",
    "    '''\n",
    "    Probabilidade do tweet ser relevante\n",
    "    '''\n",
    "    p_tweet=1 #Cont\n",
    "    quebra_tweet=tweet.split(',')\n",
    "    for palavra in quebra_tweet:\n",
    "        fa=f_absoluta(palavra,freq_palavras_relevantes_abs)\n",
    "        p_palavra=laplace(fa,lista_palavras_rel)\n",
    "        p_tweet*=p_palavra\n",
    "           \n",
    "    return p_tweet\n",
    "\n",
    "def P_tweet_i (tweet):\n",
    "    '''\n",
    "    Probabilidade do tweet ser irrelevante\n",
    "    '''\n",
    "    p_tweet=1 #Cont\n",
    "    quebra_tweet=tweet.split(',')\n",
    "    for palavra in quebra_tweet:\n",
    "        fa=f_absoluta(palavra,freq_palavras_irrelevantes_abs)\n",
    "        p_palavra=laplace(fa,lista_palavras_irrel)\n",
    "        p_tweet*=p_palavra\n",
    "        \n",
    "    return p_tweet\n",
    "\n",
    "def P_f (Relevancia, tweet):\n",
    "    return P_tweet_r(tweet)*P_R/(P(Relevancia, tweet))"
   ]
  },
  {
   "cell_type": "code",
   "execution_count": 50,
   "metadata": {},
   "outputs": [],
   "source": [
    "def Naive_Bayes_categories(tweet):\n",
    "    \"\"\"\n",
    "    Diferença entre as probabilidades de Relevante\n",
    "    e Irrelevante\n",
    "    \"\"\"\n",
    "    return ((P_tweet_r(tweet)*P_R)/P_f('R', tweet)) -((P_tweet_i(tweet)*P_Rc)/P_f('I', tweet))\n",
    "\n",
    "def Categories(p):\n",
    "    \n",
    "    '''\n",
    "   Rutula em: Muito Irrelevante, Irrelevante, Neutro, Relevante ou Muito Relevante\n",
    "    '''\n",
    "    \n",
    "    #Lista com os valores de probabilidade em ordem.\n",
    "    p_lista=test_degree.Prob.sort_values().tolist()\n",
    "    \n",
    "    #Contador que busca ponto de virada do sinal na lista ordenada de probabilidade.\n",
    "    troca_sinal=0\n",
    "    \n",
    "    #Último elemento da lista:\n",
    "    pos_ultimo=len(p_lista)\n",
    "    \n",
    "    for i, value in enumerate(p_lista):\n",
    "            \n",
    "            if(value<0):           \n",
    "                continue\n",
    "            else:\n",
    "                #Posição em que os valores mudam para positivo\n",
    "                troca_sinal=i                 \n",
    "                break\n",
    "    \n",
    "    #Probabilidade neutra para valores próximos de 0\n",
    "    if p in p_lista[troca_sinal-5:troca_sinal+10]:\n",
    "         return 'Neutro'                       \n",
    "    \n",
    "    \n",
    "    else:    \n",
    "        \n",
    "        # Probabilidade negativa 2 Subclasses\n",
    "        if p < 0:\n",
    "            \n",
    "            # Muito Irrelevantes (muito  negativos)\n",
    "            if p in p_lista[0:math.ceil((troca_sinal-5)/2)]:\n",
    "                return 'Muito Irrelevante'\n",
    "            \n",
    "            # Irrelevantes (negativos)\n",
    "            return 'Irrelevante'\n",
    "        \n",
    "        # Probabilidade positiva 2 subclasses\n",
    "        else:\n",
    "            \n",
    "            # Relevantes (menos positivos)\n",
    "            if p in p_lista[(troca_sinal+10):math.ceil((troca_sinal+10)+(pos_ultimo-(troca_sinal+10))/2)]:\n",
    "                return 'Relevante'\n",
    "            \n",
    "            # Muito Relevantes (Valores mais positivos)\n",
    "            return 'Muito Relevante'"
   ]
  },
  {
   "cell_type": "code",
   "execution_count": 51,
   "metadata": {},
   "outputs": [
    {
     "data": {
      "text/plain": [
       "0      4.055974e-11\n",
       "1     -3.450305e-21\n",
       "2      4.711346e-15\n",
       "3      2.818925e-22\n",
       "4     -7.342708e-12\n",
       "           ...     \n",
       "196   -1.757829e-28\n",
       "197    1.747761e-27\n",
       "198   -4.560904e-09\n",
       "199   -6.005840e-39\n",
       "200    3.251534e-30\n",
       "Name: Prob, Length: 201, dtype: float64"
      ]
     },
     "execution_count": 51,
     "metadata": {},
     "output_type": "execute_result"
    }
   ],
   "source": [
    "test_degree=test.copy()\n",
    "test_degree['Prob']=test_degree['Clean'].apply(Naive_Bayes_categories)\n",
    "test_degree.Prob"
   ]
  },
  {
   "cell_type": "code",
   "execution_count": 52,
   "metadata": {},
   "outputs": [
    {
     "data": {
      "text/html": [
       "<div>\n",
       "<style scoped>\n",
       "    .dataframe tbody tr th:only-of-type {\n",
       "        vertical-align: middle;\n",
       "    }\n",
       "\n",
       "    .dataframe tbody tr th {\n",
       "        vertical-align: top;\n",
       "    }\n",
       "\n",
       "    .dataframe thead th {\n",
       "        text-align: right;\n",
       "    }\n",
       "</style>\n",
       "<table border=\"1\" class=\"dataframe\">\n",
       "  <thead>\n",
       "    <tr style=\"text-align: right;\">\n",
       "      <th></th>\n",
       "      <th>Teste</th>\n",
       "      <th>Relevancia</th>\n",
       "      <th>Clean</th>\n",
       "      <th>Modelo</th>\n",
       "      <th>Prob</th>\n",
       "      <th>Grau de Relevancia</th>\n",
       "    </tr>\n",
       "  </thead>\n",
       "  <tbody>\n",
       "    <tr>\n",
       "      <th>0</th>\n",
       "      <td>demorou mas finalmente tô assistindo loki</td>\n",
       "      <td>1</td>\n",
       "      <td>demor final assist lok</td>\n",
       "      <td>1</td>\n",
       "      <td>4.055974e-11</td>\n",
       "      <td>Muito Relevante</td>\n",
       "    </tr>\n",
       "    <tr>\n",
       "      <th>1</th>\n",
       "      <td>@benuron_ @beatriz__asf xiu nao quero saber de...</td>\n",
       "      <td>0</td>\n",
       "      <td>xiu nao quer sab voc import lok viv</td>\n",
       "      <td>0</td>\n",
       "      <td>-3.450305e-21</td>\n",
       "      <td>Irrelevante</td>\n",
       "    </tr>\n",
       "    <tr>\n",
       "      <th>2</th>\n",
       "      <td>ᅟᅟ\\n\\neu e a tia sylvie atormentando o tio lok...</td>\n",
       "      <td>1</td>\n",
       "      <td>tia sylvi atorment tio lok</td>\n",
       "      <td>1</td>\n",
       "      <td>4.711346e-15</td>\n",
       "      <td>Muito Relevante</td>\n",
       "    </tr>\n",
       "    <tr>\n",
       "      <th>3</th>\n",
       "      <td>vote 24 pra eleger loki como presidente em 202...</td>\n",
       "      <td>1</td>\n",
       "      <td>vot 24 eleg lok president 2022 brilh</td>\n",
       "      <td>0</td>\n",
       "      <td>2.818925e-22</td>\n",
       "      <td>Relevante</td>\n",
       "    </tr>\n",
       "    <tr>\n",
       "      <th>4</th>\n",
       "      <td>indo de descer com o loki e mimir</td>\n",
       "      <td>0</td>\n",
       "      <td>indo desc lok mim</td>\n",
       "      <td>1</td>\n",
       "      <td>-7.342708e-12</td>\n",
       "      <td>Muito Irrelevante</td>\n",
       "    </tr>\n",
       "    <tr>\n",
       "      <th>5</th>\n",
       "      <td>@hiddlesfeyson nao consigo escolher amo todos ...</td>\n",
       "      <td>1</td>\n",
       "      <td>nao consig escolh amo tod vdd amo lok thor 1 d...</td>\n",
       "      <td>1</td>\n",
       "      <td>3.297835e-36</td>\n",
       "      <td>Relevante</td>\n",
       "    </tr>\n",
       "    <tr>\n",
       "      <th>6</th>\n",
       "      <td>@fcmurtadha essa é uma teoria interessante e m...</td>\n",
       "      <td>0</td>\n",
       "      <td>teor interess muit possivel acontec mesm nao s...</td>\n",
       "      <td>0</td>\n",
       "      <td>-4.978358e-27</td>\n",
       "      <td>Irrelevante</td>\n",
       "    </tr>\n",
       "    <tr>\n",
       "      <th>7</th>\n",
       "      <td>@hiddlesgfs abutre e loki</td>\n",
       "      <td>0</td>\n",
       "      <td>abutr lok</td>\n",
       "      <td>1</td>\n",
       "      <td>1.826798e-07</td>\n",
       "      <td>Muito Relevante</td>\n",
       "    </tr>\n",
       "    <tr>\n",
       "      <th>8</th>\n",
       "      <td>@iaursfly @ianacarioca manda foto do loki</td>\n",
       "      <td>0</td>\n",
       "      <td>mand fot lok</td>\n",
       "      <td>0</td>\n",
       "      <td>-6.338997e-08</td>\n",
       "      <td>Muito Irrelevante</td>\n",
       "    </tr>\n",
       "    <tr>\n",
       "      <th>9</th>\n",
       "      <td>together. for all time. — sylki au\\n\\ndois lok...</td>\n",
       "      <td>1</td>\n",
       "      <td>togeth all tim sylki au dois lok linh temp pro...</td>\n",
       "      <td>1</td>\n",
       "      <td>3.700893e-100</td>\n",
       "      <td>Neutro</td>\n",
       "    </tr>\n",
       "    <tr>\n",
       "      <th>10</th>\n",
       "      <td>@loki__mugo 100.00 + ode16jdb1p confirmed 🙌</td>\n",
       "      <td>0</td>\n",
       "      <td>100 00 ode16jdb1p confirmed maosparacim</td>\n",
       "      <td>1</td>\n",
       "      <td>-3.388645e-18</td>\n",
       "      <td>Muito Irrelevante</td>\n",
       "    </tr>\n",
       "    <tr>\n",
       "      <th>11</th>\n",
       "      <td>primeiro que ela é uma otaria sem sorte, segun...</td>\n",
       "      <td>1</td>\n",
       "      <td>primeir otar sort segund tud mund sab melhor s...</td>\n",
       "      <td>1</td>\n",
       "      <td>2.044437e-32</td>\n",
       "      <td>Relevante</td>\n",
       "    </tr>\n",
       "    <tr>\n",
       "      <th>12</th>\n",
       "      <td>@torystyliinson @loki_l4ufeys0n ele tá fazendo...</td>\n",
       "      <td>0</td>\n",
       "      <td>ta faz almoc depo voc vir my lady</td>\n",
       "      <td>0</td>\n",
       "      <td>-1.107248e-23</td>\n",
       "      <td>Irrelevante</td>\n",
       "    </tr>\n",
       "    <tr>\n",
       "      <th>13</th>\n",
       "      <td>loki apareceu 😈</td>\n",
       "      <td>1</td>\n",
       "      <td>lok aparec rostosorridentecomchifr</td>\n",
       "      <td>1</td>\n",
       "      <td>1.537082e-08</td>\n",
       "      <td>Muito Relevante</td>\n",
       "    </tr>\n",
       "    <tr>\n",
       "      <th>14</th>\n",
       "      <td>@fernando21neto essa série é horrível, perdi m...</td>\n",
       "      <td>1</td>\n",
       "      <td>seri horrivel perd temp kkkk aind nao dei trab...</td>\n",
       "      <td>1</td>\n",
       "      <td>1.472708e-29</td>\n",
       "      <td>Relevante</td>\n",
       "    </tr>\n",
       "    <tr>\n",
       "      <th>15</th>\n",
       "      <td>@pedrocertezas síndrome totalmente desvaloriza...</td>\n",
       "      <td>1</td>\n",
       "      <td>sindrom total desvaloriz car lok antagon vila</td>\n",
       "      <td>1</td>\n",
       "      <td>8.745538e-23</td>\n",
       "      <td>Relevante</td>\n",
       "    </tr>\n",
       "    <tr>\n",
       "      <th>16</th>\n",
       "      <td>@adolesposting esse meme tem mais variantes do...</td>\n",
       "      <td>0</td>\n",
       "      <td>mem variant lok</td>\n",
       "      <td>1</td>\n",
       "      <td>1.762196e-08</td>\n",
       "      <td>Muito Relevante</td>\n",
       "    </tr>\n",
       "    <tr>\n",
       "      <th>17</th>\n",
       "      <td>hoje vou começar loki e continuar ratched ✅</td>\n",
       "      <td>1</td>\n",
       "      <td>hoj vou comec lok continu ratched marcadeselec...</td>\n",
       "      <td>1</td>\n",
       "      <td>-7.907646e-22</td>\n",
       "      <td>Irrelevante</td>\n",
       "    </tr>\n",
       "    <tr>\n",
       "      <th>18</th>\n",
       "      <td>@mobiusdaavt @loki_l4ufeys0n @torystyliinson l...</td>\n",
       "      <td>0</td>\n",
       "      <td>lind redheart</td>\n",
       "      <td>0</td>\n",
       "      <td>-2.158634e-07</td>\n",
       "      <td>Muito Irrelevante</td>\n",
       "    </tr>\n",
       "    <tr>\n",
       "      <th>19</th>\n",
       "      <td>loki\\n\\n\"a premissa utilizada ao longo da séri...</td>\n",
       "      <td>0</td>\n",
       "      <td>lok premiss utiliz long seri otim element just...</td>\n",
       "      <td>1</td>\n",
       "      <td>3.550738e-52</td>\n",
       "      <td>Relevante</td>\n",
       "    </tr>\n",
       "    <tr>\n",
       "      <th>20</th>\n",
       "      <td>@g1 certamente trata-se de uma variante, loki ...</td>\n",
       "      <td>1</td>\n",
       "      <td>cert trat variant lok tom cont brasil variant ...</td>\n",
       "      <td>0</td>\n",
       "      <td>7.010591e-36</td>\n",
       "      <td>Relevante</td>\n",
       "    </tr>\n",
       "    <tr>\n",
       "      <th>21</th>\n",
       "      <td>eu li loki disfarçado de zeca pagodinho https:...</td>\n",
       "      <td>0</td>\n",
       "      <td>li lok disfarc zec pagodinh</td>\n",
       "      <td>1</td>\n",
       "      <td>-2.420420e-16</td>\n",
       "      <td>Muito Irrelevante</td>\n",
       "    </tr>\n",
       "    <tr>\n",
       "      <th>22</th>\n",
       "      <td>meus irmãos discutindo se o loki é “menina” ou...</td>\n",
       "      <td>1</td>\n",
       "      <td>irma discut lok menin menin fez dia kkkkkk</td>\n",
       "      <td>0</td>\n",
       "      <td>1.087272e-23</td>\n",
       "      <td>Relevante</td>\n",
       "    </tr>\n",
       "    <tr>\n",
       "      <th>23</th>\n",
       "      <td>loki é mt eu ensinando história pra carmen um ...</td>\n",
       "      <td>1</td>\n",
       "      <td>lok mt ensin histor carmen dia antes prov</td>\n",
       "      <td>1</td>\n",
       "      <td>1.194483e-23</td>\n",
       "      <td>Relevante</td>\n",
       "    </tr>\n",
       "    <tr>\n",
       "      <th>24</th>\n",
       "      <td>o loki não acorda logo to bem mal</td>\n",
       "      <td>0</td>\n",
       "      <td>lok nao acord log bem mal</td>\n",
       "      <td>0</td>\n",
       "      <td>-2.376132e-15</td>\n",
       "      <td>Muito Irrelevante</td>\n",
       "    </tr>\n",
       "    <tr>\n",
       "      <th>25</th>\n",
       "      <td>segundo meus amigos meu gosto p homem eh mt pr...</td>\n",
       "      <td>0</td>\n",
       "      <td>segund amig gost p hom eh mt previsivel tod sa...</td>\n",
       "      <td>1</td>\n",
       "      <td>-1.527059e-43</td>\n",
       "      <td>Irrelevante</td>\n",
       "    </tr>\n",
       "    <tr>\n",
       "      <th>26</th>\n",
       "      <td>@mobiusdaavt @torystyliinson @loki_l4ufeys0n @...</td>\n",
       "      <td>0</td>\n",
       "      <td>peg dois faz trisal</td>\n",
       "      <td>0</td>\n",
       "      <td>-1.580861e-12</td>\n",
       "      <td>Muito Irrelevante</td>\n",
       "    </tr>\n",
       "    <tr>\n",
       "      <th>27</th>\n",
       "      <td>@mobiusdaavt @loki_l4ufeys0n @pooldeangostoso ...</td>\n",
       "      <td>0</td>\n",
       "      <td>aceit quadrisal rostocomamaosobreaboc rostocom...</td>\n",
       "      <td>0</td>\n",
       "      <td>-5.307816e-14</td>\n",
       "      <td>Muito Irrelevante</td>\n",
       "    </tr>\n",
       "    <tr>\n",
       "      <th>28</th>\n",
       "      <td>allora o fate incontrare thor e loki o vi denu...</td>\n",
       "      <td>0</td>\n",
       "      <td>allor fat incontrar thor lok vi denunci</td>\n",
       "      <td>1</td>\n",
       "      <td>-4.996048e-22</td>\n",
       "      <td>Irrelevante</td>\n",
       "    </tr>\n",
       "    <tr>\n",
       "      <th>29</th>\n",
       "      <td>eu: vou pra casa dormir e descansar\\nimpecilho...</td>\n",
       "      <td>0</td>\n",
       "      <td>vou cas dorm descans impecilh lok surt quer brinc</td>\n",
       "      <td>0</td>\n",
       "      <td>-1.639424e-26</td>\n",
       "      <td>Irrelevante</td>\n",
       "    </tr>\n",
       "    <tr>\n",
       "      <th>30</th>\n",
       "      <td>@romanoffnatash2 cuidado pra não cair 😉</td>\n",
       "      <td>0</td>\n",
       "      <td>cuid nao cair rostocomolhopisc</td>\n",
       "      <td>0</td>\n",
       "      <td>-1.446652e-12</td>\n",
       "      <td>Muito Irrelevante</td>\n",
       "    </tr>\n",
       "    <tr>\n",
       "      <th>31</th>\n",
       "      <td>o loki vai lutar contra o nikolas tesla *?????...</td>\n",
       "      <td>0</td>\n",
       "      <td>lok vai lut contr nikol tesl</td>\n",
       "      <td>0</td>\n",
       "      <td>-7.690968e-18</td>\n",
       "      <td>Muito Irrelevante</td>\n",
       "    </tr>\n",
       "    <tr>\n",
       "      <th>32</th>\n",
       "      <td>queria um funko do loki aff</td>\n",
       "      <td>1</td>\n",
       "      <td>quer funk lok aff</td>\n",
       "      <td>1</td>\n",
       "      <td>-2.375520e-12</td>\n",
       "      <td>Muito Irrelevante</td>\n",
       "    </tr>\n",
       "    <tr>\n",
       "      <th>33</th>\n",
       "      <td>@posteitinerante a do loki é perfeita</td>\n",
       "      <td>1</td>\n",
       "      <td>lok perfeit</td>\n",
       "      <td>1</td>\n",
       "      <td>1.018551e-05</td>\n",
       "      <td>Muito Relevante</td>\n",
       "    </tr>\n",
       "    <tr>\n",
       "      <th>34</th>\n",
       "      <td>@bracinhodeferro @loki_l4ufeys0n @meupai_eador...</td>\n",
       "      <td>0</td>\n",
       "      <td>voc entreg</td>\n",
       "      <td>1</td>\n",
       "      <td>-1.173417e-07</td>\n",
       "      <td>Muito Irrelevante</td>\n",
       "    </tr>\n",
       "    <tr>\n",
       "      <th>35</th>\n",
       "      <td>@rsrssep @lllrieieiei yt deve ta bugado mano ,...</td>\n",
       "      <td>0</td>\n",
       "      <td>yt dev ta bug man seman pass tav muit</td>\n",
       "      <td>0</td>\n",
       "      <td>-6.646283e-27</td>\n",
       "      <td>Irrelevante</td>\n",
       "    </tr>\n",
       "    <tr>\n",
       "      <th>36</th>\n",
       "      <td>@melhornao777 @loki_trem @bakzinfx7 @loud_thur...</td>\n",
       "      <td>0</td>\n",
       "      <td>nfa tim pipoc sempr cop nobru don org vcs pass...</td>\n",
       "      <td>0</td>\n",
       "      <td>-3.837620e-58</td>\n",
       "      <td>Irrelevante</td>\n",
       "    </tr>\n",
       "    <tr>\n",
       "      <th>37</th>\n",
       "      <td>@mirronme @g1ncanafandom @moonwithpotter @suit...</td>\n",
       "      <td>0</td>\n",
       "      <td>eit lok vai ta mesm tim gent vou pod continu d...</td>\n",
       "      <td>0</td>\n",
       "      <td>-8.245555e-36</td>\n",
       "      <td>Irrelevante</td>\n",
       "    </tr>\n",
       "    <tr>\n",
       "      <th>38</th>\n",
       "      <td>@wizwarsd fodase o loki</td>\n",
       "      <td>1</td>\n",
       "      <td>fodas lok</td>\n",
       "      <td>1</td>\n",
       "      <td>5.092756e-06</td>\n",
       "      <td>Muito Relevante</td>\n",
       "    </tr>\n",
       "    <tr>\n",
       "      <th>39</th>\n",
       "      <td>mentira porque em 2018 o loki disse que a porc...</td>\n",
       "      <td>1</td>\n",
       "      <td>ment porqu 2018 lok diss porc sol ia brilh por...</td>\n",
       "      <td>1</td>\n",
       "      <td>1.818915e-89</td>\n",
       "      <td>Neutro</td>\n",
       "    </tr>\n",
       "    <tr>\n",
       "      <th>40</th>\n",
       "      <td>o loki morreu ????737383$;@9¥&amp;amp;@(849($4@;89...</td>\n",
       "      <td>1</td>\n",
       "      <td>lok morr 737383 amp 849 4 894 amp</td>\n",
       "      <td>1</td>\n",
       "      <td>4.993534e-26</td>\n",
       "      <td>Relevante</td>\n",
       "    </tr>\n",
       "    <tr>\n",
       "      <th>41</th>\n",
       "      <td>*sylvie e loki sentados em um banco*\\n\\nravonn...</td>\n",
       "      <td>0</td>\n",
       "      <td>sylvi lok sent banc ravonn ue vcs parec tao tr...</td>\n",
       "      <td>1</td>\n",
       "      <td>-1.305147e-70</td>\n",
       "      <td>Irrelevante</td>\n",
       "    </tr>\n",
       "    <tr>\n",
       "      <th>42</th>\n",
       "      <td>@anderson839517 @nacaomarvei como assim?? \\nel...</td>\n",
       "      <td>0</td>\n",
       "      <td>assim so surg depo vingador tinh derrot lok ul...</td>\n",
       "      <td>0</td>\n",
       "      <td>-2.616048e-70</td>\n",
       "      <td>Irrelevante</td>\n",
       "    </tr>\n",
       "    <tr>\n",
       "      <th>43</th>\n",
       "      <td>a serie do loki e muito boa</td>\n",
       "      <td>1</td>\n",
       "      <td>seri lok muit boa</td>\n",
       "      <td>1</td>\n",
       "      <td>2.033534e-09</td>\n",
       "      <td>Muito Relevante</td>\n",
       "    </tr>\n",
       "    <tr>\n",
       "      <th>44</th>\n",
       "      <td>@mobiusdaavt @torystyliinson @loki_l4ufeys0n é...</td>\n",
       "      <td>0</td>\n",
       "      <td>clar amorzinh</td>\n",
       "      <td>0</td>\n",
       "      <td>-1.412203e-07</td>\n",
       "      <td>Muito Irrelevante</td>\n",
       "    </tr>\n",
       "    <tr>\n",
       "      <th>45</th>\n",
       "      <td>que vergonha dizer isto agora, porque já devia...</td>\n",
       "      <td>0</td>\n",
       "      <td>vergonh diz agor porqu dev ter vist ha bue fin...</td>\n",
       "      <td>1</td>\n",
       "      <td>-8.710413e-42</td>\n",
       "      <td>Irrelevante</td>\n",
       "    </tr>\n",
       "    <tr>\n",
       "      <th>46</th>\n",
       "      <td>gente, a sylvie e o loki não são a mesma pesso...</td>\n",
       "      <td>0</td>\n",
       "      <td>gent sylvi lok nao sao mesm pesso imagin vcs e...</td>\n",
       "      <td>1</td>\n",
       "      <td>-6.296816e-95</td>\n",
       "      <td>Neutro</td>\n",
       "    </tr>\n",
       "    <tr>\n",
       "      <th>47</th>\n",
       "      <td>obra de @moopzies \\n\\n#marvel #loki https://t....</td>\n",
       "      <td>0</td>\n",
       "      <td>obra</td>\n",
       "      <td>1</td>\n",
       "      <td>-1.307600e-04</td>\n",
       "      <td>Muito Irrelevante</td>\n",
       "    </tr>\n",
       "    <tr>\n",
       "      <th>48</th>\n",
       "      <td>@cnn, aqui, até loki seleciona mídia de qualid...</td>\n",
       "      <td>0</td>\n",
       "      <td>aqu ate lok selecion mid qualidad par acompanh...</td>\n",
       "      <td>1</td>\n",
       "      <td>2.384702e-35</td>\n",
       "      <td>Relevante</td>\n",
       "    </tr>\n",
       "    <tr>\n",
       "      <th>49</th>\n",
       "      <td>eu na minha analise do loki https://t.co/lcglw...</td>\n",
       "      <td>1</td>\n",
       "      <td>minh analis lok</td>\n",
       "      <td>0</td>\n",
       "      <td>1.041997e-08</td>\n",
       "      <td>Muito Relevante</td>\n",
       "    </tr>\n",
       "  </tbody>\n",
       "</table>\n",
       "</div>"
      ],
      "text/plain": [
       "                                                Teste  Relevancia  \\\n",
       "0           demorou mas finalmente tô assistindo loki           1   \n",
       "1   @benuron_ @beatriz__asf xiu nao quero saber de...           0   \n",
       "2   ᅟᅟ\\n\\neu e a tia sylvie atormentando o tio lok...           1   \n",
       "3   vote 24 pra eleger loki como presidente em 202...           1   \n",
       "4                   indo de descer com o loki e mimir           0   \n",
       "5   @hiddlesfeyson nao consigo escolher amo todos ...           1   \n",
       "6   @fcmurtadha essa é uma teoria interessante e m...           0   \n",
       "7                           @hiddlesgfs abutre e loki           0   \n",
       "8           @iaursfly @ianacarioca manda foto do loki           0   \n",
       "9   together. for all time. — sylki au\\n\\ndois lok...           1   \n",
       "10        @loki__mugo 100.00 + ode16jdb1p confirmed 🙌           0   \n",
       "11  primeiro que ela é uma otaria sem sorte, segun...           1   \n",
       "12  @torystyliinson @loki_l4ufeys0n ele tá fazendo...           0   \n",
       "13                                    loki apareceu 😈           1   \n",
       "14  @fernando21neto essa série é horrível, perdi m...           1   \n",
       "15  @pedrocertezas síndrome totalmente desvaloriza...           1   \n",
       "16  @adolesposting esse meme tem mais variantes do...           0   \n",
       "17        hoje vou começar loki e continuar ratched ✅           1   \n",
       "18  @mobiusdaavt @loki_l4ufeys0n @torystyliinson l...           0   \n",
       "19  loki\\n\\n\"a premissa utilizada ao longo da séri...           0   \n",
       "20  @g1 certamente trata-se de uma variante, loki ...           1   \n",
       "21  eu li loki disfarçado de zeca pagodinho https:...           0   \n",
       "22  meus irmãos discutindo se o loki é “menina” ou...           1   \n",
       "23  loki é mt eu ensinando história pra carmen um ...           1   \n",
       "24                  o loki não acorda logo to bem mal           0   \n",
       "25  segundo meus amigos meu gosto p homem eh mt pr...           0   \n",
       "26  @mobiusdaavt @torystyliinson @loki_l4ufeys0n @...           0   \n",
       "27  @mobiusdaavt @loki_l4ufeys0n @pooldeangostoso ...           0   \n",
       "28  allora o fate incontrare thor e loki o vi denu...           0   \n",
       "29  eu: vou pra casa dormir e descansar\\nimpecilho...           0   \n",
       "30            @romanoffnatash2 cuidado pra não cair 😉           0   \n",
       "31  o loki vai lutar contra o nikolas tesla *?????...           0   \n",
       "32                        queria um funko do loki aff           1   \n",
       "33              @posteitinerante a do loki é perfeita           1   \n",
       "34  @bracinhodeferro @loki_l4ufeys0n @meupai_eador...           0   \n",
       "35  @rsrssep @lllrieieiei yt deve ta bugado mano ,...           0   \n",
       "36  @melhornao777 @loki_trem @bakzinfx7 @loud_thur...           0   \n",
       "37  @mirronme @g1ncanafandom @moonwithpotter @suit...           0   \n",
       "38                            @wizwarsd fodase o loki           1   \n",
       "39  mentira porque em 2018 o loki disse que a porc...           1   \n",
       "40  o loki morreu ????737383$;@9¥&amp;@(849($4@;89...           1   \n",
       "41  *sylvie e loki sentados em um banco*\\n\\nravonn...           0   \n",
       "42  @anderson839517 @nacaomarvei como assim?? \\nel...           0   \n",
       "43                        a serie do loki e muito boa           1   \n",
       "44  @mobiusdaavt @torystyliinson @loki_l4ufeys0n é...           0   \n",
       "45  que vergonha dizer isto agora, porque já devia...           0   \n",
       "46  gente, a sylvie e o loki não são a mesma pesso...           0   \n",
       "47  obra de @moopzies \\n\\n#marvel #loki https://t....           0   \n",
       "48  @cnn, aqui, até loki seleciona mídia de qualid...           0   \n",
       "49  eu na minha analise do loki https://t.co/lcglw...           1   \n",
       "\n",
       "                                                Clean  Modelo           Prob  \\\n",
       "0                              demor final assist lok       1   4.055974e-11   \n",
       "1                 xiu nao quer sab voc import lok viv       0  -3.450305e-21   \n",
       "2                          tia sylvi atorment tio lok       1   4.711346e-15   \n",
       "3                vot 24 eleg lok president 2022 brilh       0   2.818925e-22   \n",
       "4                                   indo desc lok mim       1  -7.342708e-12   \n",
       "5   nao consig escolh amo tod vdd amo lok thor 1 d...       1   3.297835e-36   \n",
       "6   teor interess muit possivel acontec mesm nao s...       0  -4.978358e-27   \n",
       "7                                           abutr lok       1   1.826798e-07   \n",
       "8                                        mand fot lok       0  -6.338997e-08   \n",
       "9   togeth all tim sylki au dois lok linh temp pro...       1  3.700893e-100   \n",
       "10            100 00 ode16jdb1p confirmed maosparacim       1  -3.388645e-18   \n",
       "11  primeir otar sort segund tud mund sab melhor s...       1   2.044437e-32   \n",
       "12                  ta faz almoc depo voc vir my lady       0  -1.107248e-23   \n",
       "13                 lok aparec rostosorridentecomchifr       1   1.537082e-08   \n",
       "14  seri horrivel perd temp kkkk aind nao dei trab...       1   1.472708e-29   \n",
       "15      sindrom total desvaloriz car lok antagon vila       1   8.745538e-23   \n",
       "16                                    mem variant lok       1   1.762196e-08   \n",
       "17  hoj vou comec lok continu ratched marcadeselec...       1  -7.907646e-22   \n",
       "18                                      lind redheart       0  -2.158634e-07   \n",
       "19  lok premiss utiliz long seri otim element just...       1   3.550738e-52   \n",
       "20  cert trat variant lok tom cont brasil variant ...       0   7.010591e-36   \n",
       "21                        li lok disfarc zec pagodinh       1  -2.420420e-16   \n",
       "22         irma discut lok menin menin fez dia kkkkkk       0   1.087272e-23   \n",
       "23          lok mt ensin histor carmen dia antes prov       1   1.194483e-23   \n",
       "24                          lok nao acord log bem mal       0  -2.376132e-15   \n",
       "25  segund amig gost p hom eh mt previsivel tod sa...       1  -1.527059e-43   \n",
       "26                                peg dois faz trisal       0  -1.580861e-12   \n",
       "27  aceit quadrisal rostocomamaosobreaboc rostocom...       0  -5.307816e-14   \n",
       "28            allor fat incontrar thor lok vi denunci       1  -4.996048e-22   \n",
       "29  vou cas dorm descans impecilh lok surt quer brinc       0  -1.639424e-26   \n",
       "30                     cuid nao cair rostocomolhopisc       0  -1.446652e-12   \n",
       "31                       lok vai lut contr nikol tesl       0  -7.690968e-18   \n",
       "32                                  quer funk lok aff       1  -2.375520e-12   \n",
       "33                                        lok perfeit       1   1.018551e-05   \n",
       "34                                         voc entreg       1  -1.173417e-07   \n",
       "35              yt dev ta bug man seman pass tav muit       0  -6.646283e-27   \n",
       "36  nfa tim pipoc sempr cop nobru don org vcs pass...       0  -3.837620e-58   \n",
       "37  eit lok vai ta mesm tim gent vou pod continu d...       0  -8.245555e-36   \n",
       "38                                          fodas lok       1   5.092756e-06   \n",
       "39  ment porqu 2018 lok diss porc sol ia brilh por...       1   1.818915e-89   \n",
       "40                  lok morr 737383 amp 849 4 894 amp       1   4.993534e-26   \n",
       "41  sylvi lok sent banc ravonn ue vcs parec tao tr...       1  -1.305147e-70   \n",
       "42  assim so surg depo vingador tinh derrot lok ul...       0  -2.616048e-70   \n",
       "43                                  seri lok muit boa       1   2.033534e-09   \n",
       "44                                      clar amorzinh       0  -1.412203e-07   \n",
       "45  vergonh diz agor porqu dev ter vist ha bue fin...       1  -8.710413e-42   \n",
       "46  gent sylvi lok nao sao mesm pesso imagin vcs e...       1  -6.296816e-95   \n",
       "47                                               obra       1  -1.307600e-04   \n",
       "48  aqu ate lok selecion mid qualidad par acompanh...       1   2.384702e-35   \n",
       "49                                    minh analis lok       0   1.041997e-08   \n",
       "\n",
       "   Grau de Relevancia  \n",
       "0     Muito Relevante  \n",
       "1         Irrelevante  \n",
       "2     Muito Relevante  \n",
       "3           Relevante  \n",
       "4   Muito Irrelevante  \n",
       "5           Relevante  \n",
       "6         Irrelevante  \n",
       "7     Muito Relevante  \n",
       "8   Muito Irrelevante  \n",
       "9              Neutro  \n",
       "10  Muito Irrelevante  \n",
       "11          Relevante  \n",
       "12        Irrelevante  \n",
       "13    Muito Relevante  \n",
       "14          Relevante  \n",
       "15          Relevante  \n",
       "16    Muito Relevante  \n",
       "17        Irrelevante  \n",
       "18  Muito Irrelevante  \n",
       "19          Relevante  \n",
       "20          Relevante  \n",
       "21  Muito Irrelevante  \n",
       "22          Relevante  \n",
       "23          Relevante  \n",
       "24  Muito Irrelevante  \n",
       "25        Irrelevante  \n",
       "26  Muito Irrelevante  \n",
       "27  Muito Irrelevante  \n",
       "28        Irrelevante  \n",
       "29        Irrelevante  \n",
       "30  Muito Irrelevante  \n",
       "31  Muito Irrelevante  \n",
       "32  Muito Irrelevante  \n",
       "33    Muito Relevante  \n",
       "34  Muito Irrelevante  \n",
       "35        Irrelevante  \n",
       "36        Irrelevante  \n",
       "37        Irrelevante  \n",
       "38    Muito Relevante  \n",
       "39             Neutro  \n",
       "40          Relevante  \n",
       "41        Irrelevante  \n",
       "42        Irrelevante  \n",
       "43    Muito Relevante  \n",
       "44  Muito Irrelevante  \n",
       "45        Irrelevante  \n",
       "46             Neutro  \n",
       "47  Muito Irrelevante  \n",
       "48          Relevante  \n",
       "49    Muito Relevante  "
      ]
     },
     "execution_count": 52,
     "metadata": {},
     "output_type": "execute_result"
    }
   ],
   "source": [
    "import math\n",
    "test_degree['Grau de Relevancia']= test_degree.Prob.apply(Categories)\n",
    "# test_categorie_degree=test_categorie_degree.drop('Prob',axis=1)\n",
    "test_degree.head(50)"
   ]
  },
  {
   "cell_type": "code",
   "execution_count": null,
   "metadata": {},
   "outputs": [],
   "source": []
  },
  {
   "cell_type": "markdown",
   "metadata": {},
   "source": [
    "___\n",
    "## Aperfeiçoamento:\n",
    "\n",
    "Trabalhos que conseguirem pelo menos conceito B vão evoluir em conceito dependendo da quantidade de itens avançados:\n",
    "\n",
    "* (x) IMPLEMENTOU outras limpezas e transformações que não afetem a qualidade da informação contida nos tweets. Ex: stemming, lemmatization, stopwords \n",
    "\n",
    "* (x) CORRIGIU separação de espaços entre palavras e emojis ou entre emojis e emojis \n",
    "\n",
    "* (x) CRIOU categorias intermediárias de relevância baseadas na probabilidade: ex.: muito relevante, relevante, neutro, irrelevante, muito irrelevante. Pelo menos quatro categorias, com adição de mais tweets na base, conforme enunciado. (OBRIGATÓRIO PARA TRIOS, sem contar como item avançado) --------\n",
    "\n",
    "* (x) EXPLICOU porquê não pode usar o próprio classificador para gerar mais amostras de treinamento (x)\n",
    "\n",
    "* (x) PROPÔS diferentes cenários para Naïve Bayes fora do contexto do projeto (x)\n",
    "\n",
    "* (x) SUGERIU e EXPLICOU melhorias reais com indicações concretas de como implementar (indicar como fazer e indicar material de pesquisa) \n",
    "\n",
    "* (x) FEZ o item 6. Qualidade do Classificador a partir de novas separações dos tweets entre Treinamento e Teste descrito no enunciado do projeto (OBRIGATÓRIO para conceitos A ou A+)"
   ]
  },
  {
   "cell_type": "markdown",
   "metadata": {},
   "source": [
    "___\n",
    "## Referências"
   ]
  },
  {
   "cell_type": "markdown",
   "metadata": {},
   "source": [
    "* [Naive Bayes and Text Classification](https://arxiv.org/pdf/1410.5329.pdf)  **Mais completo**\n",
    "\n",
    "\n",
    "* [A practical explanation of a Naive Bayes Classifier](https://monkeylearn.com/blog/practical-explanation-naive-bayes-classifier/) **Mais simples**\n",
    "\n",
    "\n",
    "* [The application of naive Bayes model averaging to predict Alzheimer's disease from genome-wide data](https://academic.oup.com/jamia/article/18/4/370/732731?login=true)\n",
    "\n",
    "\n",
    "* [A Novel Application of Naive Bayes Classifier in Photovoltaic Energy Prediction](https://ieeexplore.ieee.org/abstract/document/8260684)\n",
    "\n",
    "\n",
    "* [Spam/ham detection using Naive bayes Classifier](https://www.kaggle.com/dilip990/spam-ham-detection-using-naive-bayes-classifier)\n",
    "\n",
    "\n",
    "* [Week 6 - Language - CS50 - Introduction to Artificial Inteligence with Python - HarvardX](https://cs50.harvard.edu/ai/2020/notes/6/)\n",
    "\n",
    "\n",
    "* Vlado Keˇselj, Fuchun Peng, Nick Cercone, and Calvin Thomas. N-grambased author profiles for authorship attribution. In Proceedings of the conference pacific association for computational linguistics, PACLING, volume 3, pages 255–264, 2003"
   ]
  },
  {
   "cell_type": "code",
   "execution_count": null,
   "metadata": {},
   "outputs": [],
   "source": []
  }
 ],
 "metadata": {
  "kernelspec": {
   "display_name": "Python 3",
   "language": "python",
   "name": "python3"
  },
  "language_info": {
   "codemirror_mode": {
    "name": "ipython",
    "version": 3
   },
   "file_extension": ".py",
   "mimetype": "text/x-python",
   "name": "python",
   "nbconvert_exporter": "python",
   "pygments_lexer": "ipython3",
   "version": "3.8.5"
  }
 },
 "nbformat": 4,
 "nbformat_minor": 4
}
