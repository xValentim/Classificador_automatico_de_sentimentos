{
 "cells": [
  {
   "cell_type": "markdown",
   "metadata": {},
   "source": [
    "# Projeto 1 - Ciência dos Dados"
   ]
  },
  {
   "cell_type": "markdown",
   "metadata": {},
   "source": [
    "Nome: João Gabriel Valentim Rocha\n",
    "\n",
    "Nome: Enzo Dadier Lacks Zamberlan"
   ]
  },
  {
   "cell_type": "markdown",
   "metadata": {},
   "source": [
    "Atenção: Serão permitidos grupos de três pessoas, mas com uma rubrica mais exigente. Grupos deste tamanho precisarão fazer um questionário de avaliação de trabalho em equipe"
   ]
  },
  {
   "cell_type": "code",
   "execution_count": 1,
   "metadata": {},
   "outputs": [],
   "source": [
    "#!pip install seaborn\n",
    "#!pip install emoji\n",
    "#!pip install pysinonimos\n",
    "#!pip install nltk\n",
    "#!pip install sklearn\n",
    "#!pip install unidecode"
   ]
  },
  {
   "cell_type": "code",
   "execution_count": null,
   "metadata": {},
   "outputs": [],
   "source": []
  },
  {
   "cell_type": "markdown",
   "metadata": {},
   "source": [
    "___\n",
    "Carregando algumas bibliotecas:"
   ]
  },
  {
   "cell_type": "code",
   "execution_count": 169,
   "metadata": {},
   "outputs": [],
   "source": [
    "%matplotlib inline\n",
    "import pandas as pd\n",
    "import matplotlib.pyplot as plt\n",
    "import numpy as np\n",
    "import os\n",
    "import random\n",
    "import seaborn as sn"
   ]
  },
  {
   "cell_type": "code",
   "execution_count": 170,
   "metadata": {},
   "outputs": [],
   "source": [
    "import re\n",
    "import string\n",
    "import emoji\n",
    "import nltk\n",
    "import pysinonimos.sinonimos as sinom\n",
    "from emoji import UNICODE_EMOJI\n",
    "import unidecode"
   ]
  },
  {
   "cell_type": "code",
   "execution_count": 171,
   "metadata": {
    "scrolled": false
   },
   "outputs": [
    {
     "name": "stdout",
     "output_type": "stream",
     "text": [
      "Esperamos trabalhar no diretório\n",
      "C:\\Users\\gabri\\Desktop\\Matérias 2 semestre\\cdados\\P1\\Classificador_automatico_de_sentimentos\n"
     ]
    }
   ],
   "source": [
    "print('Esperamos trabalhar no diretório')\n",
    "print(os.getcwd())"
   ]
  },
  {
   "cell_type": "markdown",
   "metadata": {},
   "source": [
    "Carregando a base de dados com os tweets classificados como relevantes e não relevantes:"
   ]
  },
  {
   "cell_type": "code",
   "execution_count": 172,
   "metadata": {},
   "outputs": [],
   "source": [
    "filename = 'assets/loki.xlsx'"
   ]
  },
  {
   "cell_type": "code",
   "execution_count": 173,
   "metadata": {},
   "outputs": [
    {
     "data": {
      "text/html": [
       "<div>\n",
       "<style scoped>\n",
       "    .dataframe tbody tr th:only-of-type {\n",
       "        vertical-align: middle;\n",
       "    }\n",
       "\n",
       "    .dataframe tbody tr th {\n",
       "        vertical-align: top;\n",
       "    }\n",
       "\n",
       "    .dataframe thead th {\n",
       "        text-align: right;\n",
       "    }\n",
       "</style>\n",
       "<table border=\"1\" class=\"dataframe\">\n",
       "  <thead>\n",
       "    <tr style=\"text-align: right;\">\n",
       "      <th></th>\n",
       "      <th>Treinamento</th>\n",
       "      <th>Relevancia</th>\n",
       "    </tr>\n",
       "  </thead>\n",
       "  <tbody>\n",
       "    <tr>\n",
       "      <th>0</th>\n",
       "      <td>mood de hj: bolsominion veio falar com loki:\\n...</td>\n",
       "      <td>0</td>\n",
       "    </tr>\n",
       "    <tr>\n",
       "      <th>1</th>\n",
       "      <td>sdds do loki</td>\n",
       "      <td>1</td>\n",
       "    </tr>\n",
       "    <tr>\n",
       "      <th>2</th>\n",
       "      <td>considerações finais de loki: parabéns marvel,...</td>\n",
       "      <td>1</td>\n",
       "    </tr>\n",
       "    <tr>\n",
       "      <th>3</th>\n",
       "      <td>@_namizinhaa @yaluv_ @_girlrainbow versão femi...</td>\n",
       "      <td>0</td>\n",
       "    </tr>\n",
       "    <tr>\n",
       "      <th>4</th>\n",
       "      <td>o loki merece todo o amor do mundo ? \\n \\n  si...</td>\n",
       "      <td>1</td>\n",
       "    </tr>\n",
       "    <tr>\n",
       "      <th>...</th>\n",
       "      <td>...</td>\n",
       "      <td>...</td>\n",
       "    </tr>\n",
       "    <tr>\n",
       "      <th>295</th>\n",
       "      <td>o loki tbm ? percebi que nao sei mais nada sob...</td>\n",
       "      <td>1</td>\n",
       "    </tr>\n",
       "    <tr>\n",
       "      <th>296</th>\n",
       "      <td>tô desde as 9 fazendo atividade e o loki destr...</td>\n",
       "      <td>0</td>\n",
       "    </tr>\n",
       "    <tr>\n",
       "      <th>297</th>\n",
       "      <td>@torystyliinson @mobiusdaavt pede pra ele te m...</td>\n",
       "      <td>0</td>\n",
       "    </tr>\n",
       "    <tr>\n",
       "      <th>298</th>\n",
       "      <td>bolsonaro tá desesperado. discurso inflado, go...</td>\n",
       "      <td>0</td>\n",
       "    </tr>\n",
       "    <tr>\n",
       "      <th>299</th>\n",
       "      <td>vou terminar loki hj, espero não me decepcionar</td>\n",
       "      <td>1</td>\n",
       "    </tr>\n",
       "  </tbody>\n",
       "</table>\n",
       "<p>300 rows × 2 columns</p>\n",
       "</div>"
      ],
      "text/plain": [
       "                                           Treinamento  Relevancia\n",
       "0    mood de hj: bolsominion veio falar com loki:\\n...           0\n",
       "1                                         sdds do loki           1\n",
       "2    considerações finais de loki: parabéns marvel,...           1\n",
       "3    @_namizinhaa @yaluv_ @_girlrainbow versão femi...           0\n",
       "4    o loki merece todo o amor do mundo ? \\n \\n  si...           1\n",
       "..                                                 ...         ...\n",
       "295  o loki tbm ? percebi que nao sei mais nada sob...           1\n",
       "296  tô desde as 9 fazendo atividade e o loki destr...           0\n",
       "297  @torystyliinson @mobiusdaavt pede pra ele te m...           0\n",
       "298  bolsonaro tá desesperado. discurso inflado, go...           0\n",
       "299    vou terminar loki hj, espero não me decepcionar           1\n",
       "\n",
       "[300 rows x 2 columns]"
      ]
     },
     "execution_count": 173,
     "metadata": {},
     "output_type": "execute_result"
    }
   ],
   "source": [
    "train = pd.read_excel(filename)\n",
    "train"
   ]
  },
  {
   "cell_type": "code",
   "execution_count": 174,
   "metadata": {},
   "outputs": [
    {
     "data": {
      "text/html": [
       "<div>\n",
       "<style scoped>\n",
       "    .dataframe tbody tr th:only-of-type {\n",
       "        vertical-align: middle;\n",
       "    }\n",
       "\n",
       "    .dataframe tbody tr th {\n",
       "        vertical-align: top;\n",
       "    }\n",
       "\n",
       "    .dataframe thead th {\n",
       "        text-align: right;\n",
       "    }\n",
       "</style>\n",
       "<table border=\"1\" class=\"dataframe\">\n",
       "  <thead>\n",
       "    <tr style=\"text-align: right;\">\n",
       "      <th></th>\n",
       "      <th>Teste</th>\n",
       "      <th>Relevancia</th>\n",
       "    </tr>\n",
       "  </thead>\n",
       "  <tbody>\n",
       "    <tr>\n",
       "      <th>0</th>\n",
       "      <td>comecei loki e logo no primeiro episódio ele s...</td>\n",
       "      <td>1</td>\n",
       "    </tr>\n",
       "    <tr>\n",
       "      <th>1</th>\n",
       "      <td>@thylaspirk exatamente \\nnão dá cara loki mere...</td>\n",
       "      <td>1</td>\n",
       "    </tr>\n",
       "    <tr>\n",
       "      <th>2</th>\n",
       "      <td>pq a marvel falou que loki é irmão se thor sen...</td>\n",
       "      <td>0</td>\n",
       "    </tr>\n",
       "    <tr>\n",
       "      <th>3</th>\n",
       "      <td>vou fazer com o loki 🥰🤣 https://t.co/qry6pytktj</td>\n",
       "      <td>1</td>\n",
       "    </tr>\n",
       "    <tr>\n",
       "      <th>4</th>\n",
       "      <td>@stawocon loki eu ainda vi dnv ksksksksksksksk...</td>\n",
       "      <td>1</td>\n",
       "    </tr>\n",
       "    <tr>\n",
       "      <th>...</th>\n",
       "      <td>...</td>\n",
       "      <td>...</td>\n",
       "    </tr>\n",
       "    <tr>\n",
       "      <th>195</th>\n",
       "      <td>vou fazer uma xícara temática pra mim, mas tô ...</td>\n",
       "      <td>0</td>\n",
       "    </tr>\n",
       "    <tr>\n",
       "      <th>196</th>\n",
       "      <td>o primeiro dente de leite de loki caiu https:/...</td>\n",
       "      <td>0</td>\n",
       "    </tr>\n",
       "    <tr>\n",
       "      <th>197</th>\n",
       "      <td>@mobiusdaavt @loki_l4ufeys0n eu vou te bloquear</td>\n",
       "      <td>0</td>\n",
       "    </tr>\n",
       "    <tr>\n",
       "      <th>198</th>\n",
       "      <td>queria ter juntado uma semana de merda de loki...</td>\n",
       "      <td>0</td>\n",
       "    </tr>\n",
       "    <tr>\n",
       "      <th>199</th>\n",
       "      <td>como a po$$@ de um tanque de guerra de cerveja...</td>\n",
       "      <td>0</td>\n",
       "    </tr>\n",
       "  </tbody>\n",
       "</table>\n",
       "<p>200 rows × 2 columns</p>\n",
       "</div>"
      ],
      "text/plain": [
       "                                                 Teste  Relevancia\n",
       "0    comecei loki e logo no primeiro episódio ele s...           1\n",
       "1    @thylaspirk exatamente \\nnão dá cara loki mere...           1\n",
       "2    pq a marvel falou que loki é irmão se thor sen...           0\n",
       "3      vou fazer com o loki 🥰🤣 https://t.co/qry6pytktj           1\n",
       "4    @stawocon loki eu ainda vi dnv ksksksksksksksk...           1\n",
       "..                                                 ...         ...\n",
       "195  vou fazer uma xícara temática pra mim, mas tô ...           0\n",
       "196  o primeiro dente de leite de loki caiu https:/...           0\n",
       "197    @mobiusdaavt @loki_l4ufeys0n eu vou te bloquear           0\n",
       "198  queria ter juntado uma semana de merda de loki...           0\n",
       "199  como a po$$@ de um tanque de guerra de cerveja...           0\n",
       "\n",
       "[200 rows x 2 columns]"
      ]
     },
     "execution_count": 174,
     "metadata": {},
     "output_type": "execute_result"
    }
   ],
   "source": [
    "test = pd.read_excel(filename, sheet_name = 'Teste')\n",
    "test"
   ]
  },
  {
   "cell_type": "markdown",
   "metadata": {},
   "source": [
    "___\n",
    "## Classificador automático de sentimento\n"
   ]
  },
  {
   "cell_type": "markdown",
   "metadata": {},
   "source": [
    "Faça aqui uma descrição do seu produto e o que considerou como relevante ou não relevante na classificação dos tweets.\n",
    "\n",
    "O classificador automático de sentimentos montado tem como critério utilizado a relevância de tweets que remetam a alguma reação ou laço sentimental em relação à série, sendo os mesmos positivos ou não (elogiando algum episódio, comentando valores da série, ou ainda, criticando os mesmos). Neste sentido, postagens que dizem respeito unicamente a aspectos nesse tocante, elogiando ou comentando sobre os atores da obra, como também tweets com vagas menções sobre a série, foram considerados como irrelevantes."
   ]
  },
  {
   "cell_type": "markdown",
   "metadata": {},
   "source": [
    "### Procedimentos e configurações iniciais\n",
    "\n",
    "Para continuarmos, é necessário definir algumas funções básicas que vão nos ajudar:\n",
    "\n",
    "1) Primeiro, vamos fazer a limpeza dos tweets. Retirando simbolos e pontuações que não serão contabilizadas para nossa análise\n",
    "\n",
    "2)"
   ]
  },
  {
   "cell_type": "code",
   "execution_count": 175,
   "metadata": {},
   "outputs": [],
   "source": [
    "# Passo 0\n",
    "def separa_emoji(tweet):\n",
    "    # Essa função separa os emojis e transcreve suas respectivas descrições\n",
    "    modified=' '.join(emoji.get_emoji_regexp().split(tweet))\n",
    "    modified=modified.split()\n",
    "    for i,emoji1 in enumerate(modified):\n",
    "        if emoji1 in UNICODE_EMOJI['pt']:\n",
    "            modified[i]=UNICODE_EMOJI['pt'][emoji1].replace(':','')\n",
    "        elif emoji1 in UNICODE_EMOJI['en']:\n",
    "            modified[i]=UNICODE_EMOJI['en'][emoji1].replace(':','')\n",
    "        else:\n",
    "            continue\n",
    "    modified=' '.join(modified)\n",
    "        \n",
    "    return modified"
   ]
  },
  {
   "cell_type": "code",
   "execution_count": 176,
   "metadata": {},
   "outputs": [],
   "source": [
    "# Passo 1\n",
    "def limpa_frase(frase):\n",
    "    # Primeiro, poe todas as palavras com letras minúsculas\n",
    "    aux = frase.lower()\n",
    "    \n",
    "    # Segundo, remove # and @\n",
    "    aux = re.sub(\"@[A-Za-z0-9_]+\",\"\", aux)\n",
    "    aux = re.sub(\"#[A-Za-z0-9_]+\",\"\", aux)\n",
    "    \n",
    "    # Terceiro, remove links\n",
    "    aux = re.sub(r\"http\\S+\", \"\", aux)\n",
    "    aux = re.sub(r\"www.\\S+\", \"\", aux)\n",
    "    \n",
    "    # Quarto, remove pontuação\n",
    "    aux = re.sub('[()!?]', ' ', aux)\n",
    "    aux = re.sub('\\[.*?\\]',' ', aux)\n",
    "    \n",
    "    # Quinto, separa e troca os emojis pela sua respectiva descrição\n",
    "    aux = separa_emoji(aux)\n",
    "    aux = aux.replace(\"_\", \"\")\n",
    "    \n",
    "    # Sexto, remove acentos\n",
    "    aux = unidecode.unidecode(aux)\n",
    "    \n",
    "    # Sétimo, remove não alfa-numericos\n",
    "    aux = re.sub(\"[^a-z0-9]\",\" \", aux)\n",
    "    \n",
    "    return aux"
   ]
  },
  {
   "cell_type": "code",
   "execution_count": 177,
   "metadata": {},
   "outputs": [],
   "source": [
    "# Passo 2\n",
    "# transforma uma string em uma lista, de tal forma que é possível acessar palavra por palavra\n",
    "def tokenize(frase):\n",
    "    return frase.split()"
   ]
  },
  {
   "cell_type": "code",
   "execution_count": 178,
   "metadata": {},
   "outputs": [
    {
     "name": "stderr",
     "output_type": "stream",
     "text": [
      "[nltk_data] Downloading package stopwords to\n",
      "[nltk_data]     C:\\Users\\gabri\\AppData\\Roaming\\nltk_data...\n",
      "[nltk_data]   Package stopwords is already up-to-date!\n"
     ]
    }
   ],
   "source": [
    "# Passo 3\n",
    "# Aqui serão contabilizadas as \"stop words\"\n",
    "nltk.download('stopwords')\n",
    "prep = nltk.corpus.stopwords.words('portuguese')\n",
    "prep.append('')\n",
    "prep = prep + ['n', 's']"
   ]
  },
  {
   "cell_type": "code",
   "execution_count": 179,
   "metadata": {},
   "outputs": [],
   "source": [
    "# Passo 4\n",
    "# Essa função retira as stop words de uma lista tokenizada\n",
    "def no_stop_words(token):\n",
    "    clear = []\n",
    "    for element in token:\n",
    "        if element not in prep:\n",
    "            clear.append(element)\n",
    "    return clear"
   ]
  },
  {
   "cell_type": "code",
   "execution_count": 180,
   "metadata": {},
   "outputs": [],
   "source": [
    "# Auxiliar para transformar de lista para string\n",
    "def list_to_string(lista):\n",
    "    return ' '.join(lista)"
   ]
  },
  {
   "cell_type": "code",
   "execution_count": 181,
   "metadata": {},
   "outputs": [],
   "source": [
    "# Função final que limpa todo tweet e devolve em formato de string\n",
    "def limpa_tweet(tweet):\n",
    "    return list_to_string(no_stop_words(tokenize(limpa_frase(tweet))))"
   ]
  },
  {
   "cell_type": "code",
   "execution_count": 182,
   "metadata": {},
   "outputs": [],
   "source": [
    "# Gera uma pd.Series do set_frases\n",
    "def frases_to_series(set_frases):\n",
    "    set_frases += ' '\n",
    "    return pd.Series(tokenize(set_frases.sum()))"
   ]
  },
  {
   "cell_type": "code",
   "execution_count": 183,
   "metadata": {},
   "outputs": [
    {
     "data": {
      "text/plain": [
       "\"aux = train['Clean']\\nprint(len(frases_to_series(aux)), len(frases_to_series_2(aux)))\""
      ]
     },
     "execution_count": 183,
     "metadata": {},
     "output_type": "execute_result"
    }
   ],
   "source": [
    "'''aux = train['Clean']\n",
    "print(len(frases_to_series(aux)), len(frases_to_series_2(aux)))'''\n",
    "#frases_to_series_2(aux)"
   ]
  },
  {
   "cell_type": "markdown",
   "metadata": {},
   "source": [
    "___\n",
    "### Montando um Classificador Naive-Bayes\n",
    "\n",
    "Considerando apenas as mensagens da planilha Treinamento, ensine  seu classificador."
   ]
  },
  {
   "cell_type": "code",
   "execution_count": 184,
   "metadata": {},
   "outputs": [],
   "source": [
    "# Transformando palavras em variáveis categóricas\n",
    "train['Treinamento'] = train['Treinamento'].astype('category')\n",
    "test['Teste'] = test['Teste'].astype('category')"
   ]
  },
  {
   "cell_type": "code",
   "execution_count": 185,
   "metadata": {},
   "outputs": [],
   "source": [
    "# Aplicando funções de limpeza e certificação no dataframe de treinamento da base de dados\n",
    "train['Clean'] = train['Treinamento'].apply(limpa_tweet)\n",
    "test['Clean'] = test['Teste'].apply(limpa_tweet)"
   ]
  },
  {
   "cell_type": "code",
   "execution_count": 186,
   "metadata": {},
   "outputs": [],
   "source": [
    "# Separa os tweets relevantes dos irrelevantes\n",
    "train_rel = train[train['Relevancia'] == 1]\n",
    "train_irrel= train[train['Relevancia'] == 0]"
   ]
  },
  {
   "cell_type": "code",
   "execution_count": 187,
   "metadata": {},
   "outputs": [],
   "source": [
    "# Gera uma pd.Series das palavras relevantes e irrelevantes do training set\n",
    "palavras_rel = frases_to_series(train_rel['Clean'])\n",
    "palavras_irrel = frases_to_series(train_irrel['Clean'])"
   ]
  },
  {
   "cell_type": "code",
   "execution_count": 188,
   "metadata": {},
   "outputs": [],
   "source": [
    "# Gera duas listas com as palavras relevantes e irrelevantes e gera uma lista total\n",
    "lista_palavras_rel = list(palavras_rel)\n",
    "lista_palavras_irrel = list(palavras_irrel)\n",
    "lista_palavras = lista_palavras_rel + lista_palavras_irrel\n",
    "lista_palavras_sem_repeticao = list(set(lista_palavras))"
   ]
  },
  {
   "cell_type": "code",
   "execution_count": 189,
   "metadata": {},
   "outputs": [],
   "source": [
    "# Gera um pd.Series da lista com todas as palavras\n",
    "palavras = pd.Series(lista_palavras)"
   ]
  },
  {
   "cell_type": "code",
   "execution_count": 190,
   "metadata": {},
   "outputs": [],
   "source": [
    "# Frequencias relativas\n",
    "freq_palavras_relevantes = palavras_rel.value_counts(True)\n",
    "freq_palavras_irrelevantes = palavras_irrel.value_counts(True)\n",
    "freq_palavras_total = palavras.value_counts(True)\n",
    "\n",
    "# Frequencias absolutas\n",
    "freq_palavras_relevantes_abs = palavras_rel.value_counts()\n",
    "freq_palavras_irrelevantes_abs = palavras_irrel.value_counts()\n",
    "freq_palavras_total_abs = palavras.value_counts()\n",
    "\n"
   ]
  },
  {
   "cell_type": "markdown",
   "metadata": {},
   "source": [
    "## Probabilidades \n",
    "\n",
    "Aqui abordaremos os valores das probabilidades que serão imprescindíveis para a construção do modelo. Em primeiro lugar, note que as probabilidade de serem relevantes ou serem irrelevantes podem ser expressas da seguinte forma:\n",
    " \n",
    " * $P(R) \\rightarrow $  Probabilidade de ser relevante\n",
    " * $P(I)=P(R^c) \\rightarrow $  Probabilidade de ser irrelevante\n",
    " \n",
    "Além disso, por serem complementares, temos que: $P(R) + P(I) = P(R) + P(R^c) = 1$\n",
    " "
   ]
  },
  {
   "cell_type": "code",
   "execution_count": 191,
   "metadata": {},
   "outputs": [],
   "source": [
    "# Utilizando a razão entre a quantidade de palavras da lista de relevantes pelo número total, temos P_R\n",
    "P_R = len(lista_palavras_rel) / len(lista_palavras)\n",
    "\n",
    "# Por complementar, temos P_Rc\n",
    "P_Rc = 1 - P_R"
   ]
  },
  {
   "cell_type": "markdown",
   "metadata": {},
   "source": [
    "## Probabilidades Condicionais e o Teorema de Bayes\n",
    "Temos que, para o cálculo de probabilidades condicionais, fazemos uso da seguinte relação:\n",
    "\n",
    "$$P(A|B) = \\frac{P(A \\cap B)}{P(B)}$$\n",
    "\n",
    "Onde, \n",
    "* $P(A|B) \\rightarrow $ Probabilidade de A ocorrer, dado que B ocorreu  \n",
    "* $P(A \\cap B) \\rightarrow $ Probabilidade de A ocorrer e B ocorrer\n",
    "* $P(B) \\rightarrow $ Probabilidade de B ocorrer\n",
    "\n",
    "Analogamente, temos que:\n",
    "$$P(B|A) = \\frac{P(B \\cap A)}{P(A)}$$\n",
    "\n",
    "Onde, \n",
    "* $P(B|A) \\rightarrow $ Probabilidade de A ocorrer, dado que B ocorreu  \n",
    "* $P(B \\cap A) \\rightarrow $ Probabilidade de B ocorrer e A ocorrer\n",
    "* $P(A) \\rightarrow $ Probabilidade de B ocorrer\n",
    "\n",
    "Note que as probabilidades da interseção podem comutar os eventos A e B, portanto: $P(B \\cap A) = P(A \\cap B)$\n",
    "\n",
    "Dessa forma, podemos extrair o conhecido Teorema de Bayes:\n",
    "\n",
    "$$P(A|B) = P(B|A).\\frac{P(A)}{P(B)}$$\n",
    "\n"
   ]
  },
  {
   "cell_type": "markdown",
   "metadata": {},
   "source": [
    "## O Classificador de Naive Bayes\n",
    "\n",
    "O Classificador de Naive Bayes se baseia na construção de um modelo bag-of-word. Na análise de sentimento, queremos responder a seguinte pergunta: \"Qual a probabilidade dessa frase ser relevante, dado esse conjunto de palavras?\". Nesse sentido, é necessário computar esse cálculo utilizando probabilidades condicionais e o resultado do teorema de Bayes encontrado na sessão anterior:\n",
    "\n",
    "$$P(R|frase) = \\frac{P(frase|R).P(R)}{P(frase)}$$\n",
    "\n",
    "Dessa forma, nós vamos usar essa relação para encontrar $P(R|frase)$, ou seja, a probabilidade de uma frase ser relevante, dado o conjunto de palavras. Para tanto, tome como exemplo a frase: \"meu avô ama isso\", em termos de notação, queremos encontrar:\n",
    "\n",
    "$$P(R|\"meu avo ama isso\") = \\frac{P(\"meu avo ama isso\"|R).P(R)}{P(\"meu avo ama isso\")}$$\n",
    "\n",
    "Para prosseguir, utilizaremos um processo de \"Tokenização\", que consiste em dividir a frase em pedaços menores (as palavras) e assumir que uma palavra não influencia na colocação da outra. Sabemos que isso não é verdade, mas utilizaremos por questões de simplificação (essa é a ingenuidade do classificador de Naive Bayes). Portanto, nosso cálculo ficara da seguinte forma:\n",
    "\n",
    "$$P(\"meuavoamaisso\"|R) = P(\"meu\"|R).P(\"avô\"|R).P(\"ama\"|R).P(\"isso\"|R)$$\n",
    "\n",
    "Logo, nossa expressão final será:\n",
    "\n",
    "$$P(R|\"meu avo ama isso\") = \\frac{P(\"meu\"|R).P(\"avô\"|R).P(\"ama\"|R).P(\"isso\"|R).P(R)}{P(\"meu avo ama isso\")}$$\n",
    "\n",
    "Analogamente, para encontrarmos a probabilidade dele ser irrelevante, podemos fazer o mesmo cálculo:\n",
    "\n",
    "$$P(I|\"meu avo ama isso\") = \\frac{P(\"meu\"|I).P(\"avô\"|I).P(\"ama\"|I).P(\"isso\"|I).P(I)}{P(\"meu avo ama isso\")}$$\n",
    "\n",
    "Agora, basta compararmos os valores das probabilidades:\n",
    "\n",
    "Se, $P(R|\"meu avo ama isso\") > P(I|\"meu avo ama isso\")$, então, é mais provável que a frase seja $relevante$\n",
    "\n",
    "\n",
    "Caso contrário, $P(R|\"meu avo ama isso\") < P(I|\"meu avo ama isso\")$, então, é mais provável que a frase seja $irrelevante$"
   ]
  },
  {
   "cell_type": "markdown",
   "metadata": {},
   "source": [
    "### Suavização de Laplace\n",
    "\n",
    "É importante ressaltar que para o caso de uma determina palavra em uma frase não pertencer ao nosso conjunto universo, a probabilidade atribuida a essa palavra será zero. Porém, não podemos utilizar a probabilidade de 0 por razões algébricas, portanto, utilizaremos a <b><em>Suavização de Laplace</em></b>. Basicamente essa ferramenta irá nos ajudar a inserir a palavra \"estranha\" no quesito probabilístico das categorias discutidas.\n",
    "\n",
    "$$P(palavra|W) = \\frac{F_{AW}+1}{P_{W}+P_{W^c}}$$\n",
    "\n",
    "Onde: \n",
    "\n",
    "$ F_{AW} \\rightarrow$ Frequência absoluta da palavra na categoria W\n",
    "    \n",
    "$P_{W} \\rightarrow$ Todas as palavras pertencentes às frases rotuladas como da categoria W\n",
    "    \n",
    "$P_{W^c} \\rightarrow$ Todas as palavras pertencentes às frases rotuladas como da categoria W^c\n",
    "\n",
    "Nesse sentido, tome $W$ como sendo o evento $R$ e $W^c$ como sendo o evento $I$ ou $R^C$. Dessa forma, a soma do valor 1 faz com que o nosso resultado de $P(R|frase)$ ou $P(I|frase)$ nunca se torne zero, mesmo que a frequência absoluta da palavra seja zero.\n"
   ]
  },
  {
   "cell_type": "code",
   "execution_count": 223,
   "metadata": {},
   "outputs": [],
   "source": [
    "'''\n",
    "A suavização de Laplace será utilizada para os casos em que uma determinada palavra da frase não se encontra \n",
    "no conjunto universo.\n",
    "'''\n",
    "def smoothing(palavra, relevancia, freq_palavras_abs, alfa=1):\n",
    "    '''\n",
    "    alfa -> Parâmetro de suavização\n",
    "    alfa = 1 (Suavização de Laplace)\n",
    "    alfa < 1 (Suavização de Lidstone)\n",
    "    '''\n",
    "    try:\n",
    "        FAW = freq_palavras_abs[palavra]\n",
    "    except:\n",
    "        FAW = 0\n",
    "    if relevancia == 'R':\n",
    "        return (FAW + alfa) / (len(lista_palavras_rel) + alfa * len(lista_palavras_sem_repeticao))\n",
    "    return (FAW + alfa) / (len(lista_palavras_irrel) + alfa * len(lista_palavras_sem_repeticao))"
   ]
  },
  {
   "cell_type": "code",
   "execution_count": 224,
   "metadata": {},
   "outputs": [],
   "source": [
    "# Função que calcula a probabilidade que queremos para fazer a desigualdade e decidir a categoria mais provável\n",
    "def P(relevancia, frase):\n",
    "    if type(frase) != list:\n",
    "        frase = tokenize(frase)\n",
    "    if relevancia == 'R':\n",
    "        P_F_dado_R = 1\n",
    "        for palavra in frase:\n",
    "            P_F_dado_R *= smoothing(palavra, relevancia, freq_palavras_relevantes_abs)\n",
    "        P_R_dado_F = P_F_dado_R * P_R\n",
    "        return P_R_dado_F\n",
    "            \n",
    "    elif relevancia == 'I' or relevancia == 'Rc':\n",
    "        P_F_dado_Rc = 1\n",
    "        for palavra in frase:\n",
    "            P_F_dado_Rc *= smoothing(palavra, relevancia, freq_palavras_irrelevantes_abs)\n",
    "        P_Rc_dado_F = P_F_dado_Rc * P_Rc\n",
    "        return P_Rc_dado_F\n",
    "    return None"
   ]
  },
  {
   "cell_type": "code",
   "execution_count": 225,
   "metadata": {},
   "outputs": [],
   "source": [
    "# Função final que recorre ao modelo de Naive Bayes\n",
    "def NaiveBayesModel(frase):\n",
    "    if P('R', frase) > P('I', frase):\n",
    "        return 1\n",
    "    return 0"
   ]
  },
  {
   "cell_type": "code",
   "execution_count": 226,
   "metadata": {},
   "outputs": [],
   "source": [
    "# Função final que recorre ao modelo de Naive Bayes\n",
    "def NaiveBayesModel_MonteCarlo(frase):\n",
    "    p1 = P('R', frase)\n",
    "    p2 = P('I', frase)\n",
    "    p1_plus_p2 = p1 + p2\n",
    "    lambda_1 = p1 / p1_plus_p2\n",
    "    lambda_2 = p2 / p1_plus_p2\n",
    "    z = random.random()\n",
    "    if z < lambda_1:\n",
    "        return 1\n",
    "    return 0"
   ]
  },
  {
   "cell_type": "markdown",
   "metadata": {},
   "source": [
    "___\n",
    "### Verificando a performance do Classificador\n",
    "\n",
    "Agora você deve testar o seu classificador com a base de Testes."
   ]
  },
  {
   "cell_type": "code",
   "execution_count": 227,
   "metadata": {},
   "outputs": [],
   "source": [
    "test['Modelo'] = test['Clean'].apply(NaiveBayesModel)"
   ]
  },
  {
   "cell_type": "code",
   "execution_count": 228,
   "metadata": {},
   "outputs": [
    {
     "name": "stdout",
     "output_type": "stream",
     "text": [
      "O percentual de verdadeiros positivos foi de: 16.00%\n",
      "O percentual de falsos_positivos positivos foi de: 28.50%\n"
     ]
    }
   ],
   "source": [
    "verdadeiros_positivos = test.loc[(test['Modelo'] == 1) & (test['Relevancia'] == 1),:].shape[0]\n",
    "falsos_positivos = test.loc[(test['Modelo'] == 1) & (test['Relevancia'] == 0),:].shape[0]\n",
    "print(f'O percentual de verdadeiros positivos foi de: {100*(verdadeiros_positivos)/test.shape[0]:.2f}%')\n",
    "print(f'O percentual de falsos_positivos positivos foi de: {100*(falsos_positivos)/test.shape[0]:.2f}%')"
   ]
  },
  {
   "cell_type": "code",
   "execution_count": 229,
   "metadata": {},
   "outputs": [
    {
     "name": "stdout",
     "output_type": "stream",
     "text": [
      "O percentual de verdadeiros negativo foi de: 37.50%\n",
      "O percentual de falsos positivos negativo foi de: 18.00%\n"
     ]
    }
   ],
   "source": [
    "verdadeiros_negativos = test.loc[(test['Modelo'] == 0) & (test['Relevancia'] == 0),:].shape[0]\n",
    "falsos_negativos = test.loc[(test['Modelo'] == 0) & (test['Relevancia'] == 1),:].shape[0]\n",
    "print(f'O percentual de verdadeiros negativo foi de: {100*(verdadeiros_negativos)/test.shape[0]:.2f}%')\n",
    "print(f'O percentual de falsos positivos negativo foi de: {100*(falsos_negativos)/test.shape[0]:.2f}%')"
   ]
  },
  {
   "cell_type": "code",
   "execution_count": 230,
   "metadata": {},
   "outputs": [
    {
     "name": "stdout",
     "output_type": "stream",
     "text": [
      "A acurácia do modelo foi de: 53.50%\n"
     ]
    }
   ],
   "source": [
    "print(f'A acurácia do modelo foi de: {100*(verdadeiros_negativos+verdadeiros_positivos)/test.shape[0]:.2f}%')"
   ]
  },
  {
   "cell_type": "markdown",
   "metadata": {},
   "source": [
    "#### Mapa de Calor\n",
    "Para visualizar melhor os percentuais, vamos utilizar a biblioteca Seaborn para plotar um mapa de calor, a partir de uma tabela cruzada que será criada na célula seguinte."
   ]
  },
  {
   "cell_type": "code",
   "execution_count": 231,
   "metadata": {},
   "outputs": [
    {
     "data": {
      "image/png": "[encoded data removed]",
      "text/plain": [
       "<Figure size 720x504 with 2 Axes>"
      ]
     },
     "metadata": {
      "needs_background": "light"
     },
     "output_type": "display_data"
    }
   ],
   "source": [
    "tabela_cruzada = pd.crosstab(test.Relevancia, test.Modelo, normalize=True)\n",
    "plt.figure(figsize=(10,7))\n",
    "plt.title('Mapa de calor')\n",
    "sn.heatmap(tabela_cruzada, annot=True, annot_kws={\"size\": 30}, fmt='.1%', cmap='YlGnBu')\n",
    "plt.show()"
   ]
  },
  {
   "cell_type": "markdown",
   "metadata": {},
   "source": [
    "___\n",
    "### Concluindo"
   ]
  },
  {
   "cell_type": "markdown",
   "metadata": {},
   "source": [
    "   No classificador automático criado, que tem por objetivo adotar critérios acerca dos sentimentos sobre a série, como visto  no mapa de calor e seus dados de precisão, há uma acurácia de 53.50%, com um percentual de verdadeiros negativo de 37.50% e um percentual de falsos negativo de 18.00%.\n",
    "   \n",
    "   Dentro deste universo, é essencial acrescentar que os grandes responsáveis por esses erros são os falsos positivos, já que trazem uma caracterização errônea ao classificador em questão. Desta forma, também é importante destacar que ao promover o uso de um data base pequeno, o algorítmo criado apresenta uma classificação mais arbritrária, enquanto que se a mesma for feita por mais informações e informações mais abrangentes, apresentará resultados mais satisfatórios e precisos, dentro de uma 'subjetividade' criada por probabilidades e espaços amostrais que envolvem os dados em questão. Com isso, sendo possível receber um output biinário resposável por definir os mesmos em relevantes, ou ainda, irrelevantes. Ou seja, classificar automaticamente os dados em questão.\n",
    "  \n",
    "   Contudo, pode-se definir, por fim, um funcionamento adequado ao próprio classificador, mas não ideal, sendo que uma vez que \"naive\" (ou seja, ingênuo) desconsidera a relação entre as palavras, abrindo brechas para classificações incorretas acerca dos procedimentos de sarcasmo, dupla negação, ironia, ambiguidade e figuras de linguagem - sendo sarcasmo e dupla negação discutidos abaixo. Fato que mesmo o aumento dos dados coletados por ele podem não sanar, tendo em mente apenas a eficácia da análise matemática e não de granática, sentido ou sintaxe aplicadas aos tweets.\n",
    "   \n",
    "   Através disso, tendo em vista o funcionamento adequado do produto em questão (dentro de aspectos matemáticos), essa funcionalidade poderia de fato ser expandida para outros universos, como a comparação de avaliações positivas e negativas acerca de um determinado produto, ou ainda, coletando a relevância de feedbacks apresentados pelos usuários de determidao produto-serviço, a fim de potencializar a sua eficácia e produtividade. Deste modo, sendo intrínseco ao projeto a necessidade contínua de alimentação financeira, para que o classificador criado possa continuar em andamento, se desenvolvendo e abrangindo maiores ramos no mundo de coleta e classificação de dados, tanto para pesquisa de satisfação quanto para melhoria dos ideias de certa empresa."
   ]
  },
  {
   "cell_type": "markdown",
   "metadata": {},
   "source": [
    "#### Por que não posso utilizar minha base de Treinamento para checar a acurácia do meu classificador?\n",
    "\n",
    "Sobretudo, num contexto de um pequeno data set, ocorrerá um efeito chamado <b>Overfitting</b>, que ocorre devido ao fato de o conjunto de treinamento não ser suficientemente grande para gerar classificações mais acertivas quando o sistema recebe novas instâncias (novos tweets). \n",
    "\n",
    "Esse efeito pode ser simbolizado pelo gráfico a seguir:\n",
    "\n",
    "<img src=\"assets/overfitting_2.png\" width=400 >\n",
    "<center><b>Figura 1 - Visualização do overfitting para data sets pequenos</b></center>"
   ]
  },
  {
   "cell_type": "markdown",
   "metadata": {},
   "source": [
    "####  Por que não posso alimentar minha base de Treinamento automaticamente usando o próprio classificador?\n",
    "\n",
    "Como vimos anteriormente, existe uma simplificação que fizemos na implementação do modelo que pode prejudicar o julgamento do algoritmo ao receber uma nova instância (novo tweet). Em tópicos anteriores vimos que as considerações foram estritamente algébricas, não levando em conta o valor semântico, gramático e a influência de uma palavra às demais da frase.\n",
    "\n",
    "Nesse sentido, ao utilizarmos o próprio classificador para alimentar a base de treinamento, estaríamos propagando um viés cada vez maior, prejudicando o treinamento do nosso modelo. Dessa forma, é preciso que os tweets sejam rotulados manualmente e com um critério estático, mesmo que isso apresente um certo grau de subjetividade. É importante mencionar que esse tipo de sistema de aprendizado é Supervisionado, portanto, é necessário que nosso conjunto de treinamento esteja rotulado de forma adequada para que obtenhamos o máximo de êxito ao classificar uma nova instância.\n",
    "\n"
   ]
  },
  {
   "cell_type": "markdown",
   "metadata": {},
   "source": [
    "#### Sarcasmo e dupla negação\n",
    "\n",
    "<b>1) Sarcasmo</b>\n",
    "\n",
    "Este tópico é pautado em uma consideração que fizemos para a construção do modelo. Como vimos, por questões de simplificação, o classificador de Naive Bayes considera a independência entre as palavras (<b>a ingenuidade de Naive Bayes</b>). Apesar de ser uma consideração razoável, é possível prever que o classificador não funciona muito bem diante de um tweet sarcástico, por exemplo. \n",
    "\n",
    "Diante disso, acompanhe um caso que pode ser um bom exemplo disso:"
   ]
  },
  {
   "cell_type": "code",
   "execution_count": 244,
   "metadata": {},
   "outputs": [
    {
     "name": "stdout",
     "output_type": "stream",
     "text": [
      "A frase 1 é RELEVANTE\n"
     ]
    }
   ],
   "source": [
    "frase_1 = 'eu amo loki tanto quanto tomar uma paulada'\n",
    "if NaiveBayesModel(frase_1) == 1:\n",
    "    print('A frase 1 é RELEVANTE')\n",
    "else:\n",
    "    print('A frase 1 é IRRELEVANTE')"
   ]
  },
  {
   "cell_type": "markdown",
   "metadata": {},
   "source": [
    "<b>2) Dupla Negação</b>\n",
    "\n",
    "Analogamente ao caso anterior, é possível estender essa análise para frases com dupla negação. \n",
    "\n",
    "Diante disso, acompanhe um caso que pode ser um bom exemplo disso:\n"
   ]
  },
  {
   "cell_type": "code",
   "execution_count": 245,
   "metadata": {},
   "outputs": [
    {
     "name": "stdout",
     "output_type": "stream",
     "text": [
      "A frase 2 é IRRELEVANTE\n"
     ]
    }
   ],
   "source": [
    "frase_2 = 'loki não é nada agradável'\n",
    "if NaiveBayesModel(frase_2) == 1:\n",
    "    print('A frase 2 é RELEVANTE')\n",
    "else:\n",
    "    print('A frase 2 é IRRELEVANTE')"
   ]
  },
  {
   "cell_type": "markdown",
   "metadata": {},
   "source": [
    "Com os exemplos acima é possível inferir, portanto, que tweets de caráter sarcástico ou com dupla negação muito provavelmente serão classificados de maneira errônea. Isso se deve, sobretudo, à <b>ingenuidade do classificador de Naive Bayes</b>. "
   ]
  },
  {
   "cell_type": "markdown",
   "metadata": {},
   "source": [
    "___\n",
    "### Qualidade do Classificador a partir de novas separações dos tweets entre Treinamento e Teste\n",
    "\n",
    "Caso for fazer esse item do Projeto"
   ]
  },
  {
   "cell_type": "code",
   "execution_count": null,
   "metadata": {},
   "outputs": [],
   "source": []
  },
  {
   "cell_type": "code",
   "execution_count": null,
   "metadata": {},
   "outputs": [],
   "source": []
  },
  {
   "cell_type": "markdown",
   "metadata": {},
   "source": [
    "___\n",
    "### Novos cenários para o classificador de Naive Bayes\n",
    "\n",
    "<b>1)</b> A aplicação do modelo ingênuo de Bayes para prever a doença de Alzheimer a partir de dados de todo o genoma (Wei Wei, et al. 2011)\n",
    "\n",
    "Nesse artigo, é utilizado o modelo de Naive Bayes para identificar e prever a doença de Alzheimer. O ponto princípio da implementação se encontro no tópico \"<b>The naive Bayes model</b>\", onde ele mostra a consideração que aqui discutimos:\n",
    "\n",
    "<img src=\"assets/ox_article.png\" width=400 >\n",
    "<center><b>Figura 1 - Visualização do overfitting para data sets pequenos</b></center>\n",
    "\n",
    "Nesse caso, as features são os componentes pertencentes ao genoma (fazendo o paralelo, seriam a substituição das palavras dos nossos tweets). Dessa forma, é possível ver uma primeira grande aplicação para o modelo de Naive Bayes, que ainda não havia sido discutida.\n",
    "\n",
    "* Fonte: https://academic.oup.com/jamia/article/18/4/370/732731?login=true\n",
    "\n",
    "<b>2)</b> Uma nova aplicação do classificador Naive Bayes na previsão de energia fotovoltaica (Ramazan Bayindir, et al. 2017)\n",
    "\n",
    "Nesse artigo, é utilizado o modelo de Naive Bayes para identificar e prever a quantidade de energia gerada por paineis fotovoltaicos. Os pesquisadores utilizaram um conjunto de dados coletados por 1 ano, que registram valores de varias features como temperatura e duração total do sol. \n",
    "\n",
    "As aplicações do modelo de Naive Bayes nesse artigo podem ser de fundamental importância no mundo contemporânea, haja vista a necessidade de cada vez mais aplicações de energias limpas (como a energia solar) e para tanto, é necessário um aparato tecnológico consistente para tal atividade.\n",
    "\n",
    "* Fonte: https://ieeexplore.ieee.org/abstract/document/8260684"
   ]
  },
  {
   "cell_type": "markdown",
   "metadata": {},
   "source": [
    "___\n",
    "## Aperfeiçoamento:\n",
    "\n",
    "Trabalhos que conseguirem pelo menos conceito B vão evoluir em conceito dependendo da quantidade de itens avançados:\n",
    "\n",
    "* IMPLEMENTOU outras limpezas e transformações que não afetem a qualidade da informação contida nos tweets. Ex: stemming, lemmatization, stopwords\n",
    "* CORRIGIU separação de espaços entre palavras e emojis ou entre emojis e emojis\n",
    "* CRIOU categorias intermediárias de relevância baseadas na probabilidade: ex.: muito relevante, relevante, neutro, irrelevante, muito irrelevante. Pelo menos quatro categorias, com adição de mais tweets na base, conforme enunciado. (OBRIGATÓRIO PARA TRIOS, sem contar como item avançado)\n",
    "* EXPLICOU porquê não pode usar o próprio classificador para gerar mais amostras de treinamento\n",
    "* PROPÔS diferentes cenários para Naïve Bayes fora do contexto do projeto\n",
    "* SUGERIU e EXPLICOU melhorias reais com indicações concretas de como implementar (indicar como fazer e indicar material de pesquisa)\n",
    "* FEZ o item 6. Qualidade do Classificador a partir de novas separações dos tweets entre Treinamento e Teste descrito no enunciado do projeto (OBRIGATÓRIO para conceitos A ou A+)"
   ]
  },
  {
   "cell_type": "markdown",
   "metadata": {},
   "source": [
    "___\n",
    "## Referências"
   ]
  },
  {
   "cell_type": "markdown",
   "metadata": {},
   "source": [
    "[Naive Bayes and Text Classification](https://arxiv.org/pdf/1410.5329.pdf)  **Mais completo**\n",
    "\n",
    "[A practical explanation of a Naive Bayes Classifier](https://monkeylearn.com/blog/practical-explanation-naive-bayes-classifier/) **Mais simples**"
   ]
  },
  {
   "cell_type": "code",
   "execution_count": null,
   "metadata": {},
   "outputs": [],
   "source": []
  }
 ],
 "metadata": {
  "kernelspec": {
   "display_name": "Python 3",
   "language": "python",
   "name": "python3"
  },
  "language_info": {
   "codemirror_mode": {
    "name": "ipython",
    "version": 3
   },
   "file_extension": ".py",
   "mimetype": "text/x-python",
   "name": "python",
   "nbconvert_exporter": "python",
   "pygments_lexer": "ipython3",
   "version": "3.8.5"
  }
 },
 "nbformat": 4,
 "nbformat_minor": 4
}
